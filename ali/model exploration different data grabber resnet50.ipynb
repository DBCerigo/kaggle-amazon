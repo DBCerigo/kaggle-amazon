{
 "cells": [
  {
   "cell_type": "code",
   "execution_count": 1,
   "metadata": {
    "collapsed": false
   },
   "outputs": [],
   "source": [
    "%load_ext autoreload\n",
    "%autoreload 2\n",
    "%matplotlib inline"
   ]
  },
  {
   "cell_type": "code",
   "execution_count": 2,
   "metadata": {
    "collapsed": false
   },
   "outputs": [
    {
     "name": "stderr",
     "output_type": "stream",
     "text": [
      "Using Theano backend.\n",
      "Using gpu device 0: Tesla K80 (CNMeM is disabled, cuDNN 5103)\n",
      "/home/ubuntu/anaconda2/lib/python2.7/site-packages/theano/sandbox/cuda/__init__.py:600: UserWarning: Your cuDNN version is more recent than the one Theano officially supports. If you see any problems, try updating Theano or downgrading cuDNN to version 5.\n",
      "  warnings.warn(warn)\n"
     ]
    }
   ],
   "source": [
    "import os.path\n",
    "import numpy as np\n",
    "import pandas as pd\n",
    "import matplotlib.pyplot as plt\n",
    "from keras.optimizers import Adam, RMSprop\n",
    "from sklearn.metrics import fbeta_score\n",
    "import gc"
   ]
  },
  {
   "cell_type": "code",
   "execution_count": 3,
   "metadata": {
    "collapsed": false
   },
   "outputs": [],
   "source": [
    "import os\n",
    "import sys\n",
    "base_module_path = os.path.abspath(os.path.join('..'))\n",
    "if base_module_path not in sys.path:\n",
    "    sys.path.append(base_module_path)\n",
    "import ama as a"
   ]
  },
  {
   "cell_type": "code",
   "execution_count": 4,
   "metadata": {
    "collapsed": false
   },
   "outputs": [],
   "source": [
    "import keras.backend as K\n",
    "K.set_image_dim_ordering('tf')"
   ]
  },
  {
   "cell_type": "code",
   "execution_count": 5,
   "metadata": {
    "collapsed": false
   },
   "outputs": [],
   "source": [
    "Vgg = a.vgg.Vgg\n",
    "TrainBatch = a.trainbatch.TrainBatch\n",
    "preprocess_train_data = a.data_helper.preprocess_train_data"
   ]
  },
  {
   "cell_type": "code",
   "execution_count": 6,
   "metadata": {
    "collapsed": true
   },
   "outputs": [],
   "source": [
    "path= '../data/'\n",
    "cv_version = 1\n",
    "cv_version = str(cv_version)\n",
    "batch_size = 128\n",
    "img_size = (128,128)\n",
    "#class_weights = [189, 3.2, 1.7, 2.3, 4.8, 463, 34, 1, 80, 59, 25, 66, 560, 155, 1, 2.2, 90]"
   ]
  },
  {
   "cell_type": "code",
   "execution_count": 7,
   "metadata": {
    "collapsed": false
   },
   "outputs": [],
   "source": [
    "vgg = Vgg(input_shape=img_size+(3,), dropout=0.5, old_style=False)"
   ]
  },
  {
   "cell_type": "code",
   "execution_count": 8,
   "metadata": {
    "collapsed": false,
    "scrolled": true
   },
   "outputs": [
    {
     "name": "stdout",
     "output_type": "stream",
     "text": [
      "____________________________________________________________________________________________________\n",
      "Layer (type)                     Output Shape          Param #     Connected to                     \n",
      "====================================================================================================\n",
      "batchnormalization_1 (BatchNormal(None, 128, 128, 3)   6           batchnormalization_input_1[0][0] \n",
      "____________________________________________________________________________________________________\n",
      "zeropadding2d_1 (ZeroPadding2D)  (None, 130, 130, 3)   0           batchnormalization_1[0][0]       \n",
      "____________________________________________________________________________________________________\n",
      "convolution2d_1 (Convolution2D)  (None, 128, 128, 64)  1792        zeropadding2d_1[0][0]            \n",
      "____________________________________________________________________________________________________\n",
      "zeropadding2d_2 (ZeroPadding2D)  (None, 130, 130, 64)  0           convolution2d_1[0][0]            \n",
      "____________________________________________________________________________________________________\n",
      "convolution2d_2 (Convolution2D)  (None, 128, 128, 64)  36928       zeropadding2d_2[0][0]            \n",
      "____________________________________________________________________________________________________\n",
      "maxpooling2d_1 (MaxPooling2D)    (None, 64, 64, 64)    0           convolution2d_2[0][0]            \n",
      "____________________________________________________________________________________________________\n",
      "zeropadding2d_3 (ZeroPadding2D)  (None, 66, 66, 64)    0           maxpooling2d_1[0][0]             \n",
      "____________________________________________________________________________________________________\n",
      "convolution2d_3 (Convolution2D)  (None, 64, 64, 128)   73856       zeropadding2d_3[0][0]            \n",
      "____________________________________________________________________________________________________\n",
      "zeropadding2d_4 (ZeroPadding2D)  (None, 66, 66, 128)   0           convolution2d_3[0][0]            \n",
      "____________________________________________________________________________________________________\n",
      "convolution2d_4 (Convolution2D)  (None, 64, 64, 128)   147584      zeropadding2d_4[0][0]            \n",
      "____________________________________________________________________________________________________\n",
      "maxpooling2d_2 (MaxPooling2D)    (None, 32, 32, 128)   0           convolution2d_4[0][0]            \n",
      "____________________________________________________________________________________________________\n",
      "zeropadding2d_5 (ZeroPadding2D)  (None, 34, 34, 128)   0           maxpooling2d_2[0][0]             \n",
      "____________________________________________________________________________________________________\n",
      "convolution2d_5 (Convolution2D)  (None, 32, 32, 256)   295168      zeropadding2d_5[0][0]            \n",
      "____________________________________________________________________________________________________\n",
      "zeropadding2d_6 (ZeroPadding2D)  (None, 34, 34, 256)   0           convolution2d_5[0][0]            \n",
      "____________________________________________________________________________________________________\n",
      "convolution2d_6 (Convolution2D)  (None, 32, 32, 256)   590080      zeropadding2d_6[0][0]            \n",
      "____________________________________________________________________________________________________\n",
      "zeropadding2d_7 (ZeroPadding2D)  (None, 34, 34, 256)   0           convolution2d_6[0][0]            \n",
      "____________________________________________________________________________________________________\n",
      "convolution2d_7 (Convolution2D)  (None, 32, 32, 256)   590080      zeropadding2d_7[0][0]            \n",
      "____________________________________________________________________________________________________\n",
      "maxpooling2d_3 (MaxPooling2D)    (None, 16, 16, 256)   0           convolution2d_7[0][0]            \n",
      "____________________________________________________________________________________________________\n",
      "zeropadding2d_8 (ZeroPadding2D)  (None, 18, 18, 256)   0           maxpooling2d_3[0][0]             \n",
      "____________________________________________________________________________________________________\n",
      "convolution2d_8 (Convolution2D)  (None, 16, 16, 512)   1180160     zeropadding2d_8[0][0]            \n",
      "____________________________________________________________________________________________________\n",
      "zeropadding2d_9 (ZeroPadding2D)  (None, 18, 18, 512)   0           convolution2d_8[0][0]            \n",
      "____________________________________________________________________________________________________\n",
      "convolution2d_9 (Convolution2D)  (None, 16, 16, 512)   2359808     zeropadding2d_9[0][0]            \n",
      "____________________________________________________________________________________________________\n",
      "zeropadding2d_10 (ZeroPadding2D) (None, 18, 18, 512)   0           convolution2d_9[0][0]            \n",
      "____________________________________________________________________________________________________\n",
      "convolution2d_10 (Convolution2D) (None, 16, 16, 512)   2359808     zeropadding2d_10[0][0]           \n",
      "____________________________________________________________________________________________________\n",
      "maxpooling2d_4 (MaxPooling2D)    (None, 8, 8, 512)     0           convolution2d_10[0][0]           \n",
      "____________________________________________________________________________________________________\n",
      "zeropadding2d_11 (ZeroPadding2D) (None, 10, 10, 512)   0           maxpooling2d_4[0][0]             \n",
      "____________________________________________________________________________________________________\n",
      "convolution2d_11 (Convolution2D) (None, 8, 8, 512)     2359808     zeropadding2d_11[0][0]           \n",
      "____________________________________________________________________________________________________\n",
      "zeropadding2d_12 (ZeroPadding2D) (None, 10, 10, 512)   0           convolution2d_11[0][0]           \n",
      "____________________________________________________________________________________________________\n",
      "convolution2d_12 (Convolution2D) (None, 8, 8, 512)     2359808     zeropadding2d_12[0][0]           \n",
      "____________________________________________________________________________________________________\n",
      "zeropadding2d_13 (ZeroPadding2D) (None, 10, 10, 512)   0           convolution2d_12[0][0]           \n",
      "____________________________________________________________________________________________________\n",
      "convolution2d_13 (Convolution2D) (None, 8, 8, 512)     2359808     zeropadding2d_13[0][0]           \n",
      "____________________________________________________________________________________________________\n",
      "maxpooling2d_5 (MaxPooling2D)    (None, 4, 4, 512)     0           convolution2d_13[0][0]           \n",
      "____________________________________________________________________________________________________\n",
      "flatten_1 (Flatten)              (None, 8192)          0           maxpooling2d_5[0][0]             \n",
      "____________________________________________________________________________________________________\n",
      "dense_1 (Dense)                  (None, 1028)          8422404     flatten_1[0][0]                  \n",
      "____________________________________________________________________________________________________\n",
      "batchnormalization_2 (BatchNormal(None, 1028)          2056        dense_1[0][0]                    \n",
      "____________________________________________________________________________________________________\n",
      "dropout_1 (Dropout)              (None, 1028)          0           batchnormalization_2[0][0]       \n",
      "____________________________________________________________________________________________________\n",
      "dense_2 (Dense)                  (None, 1028)          1057812     dropout_1[0][0]                  \n",
      "____________________________________________________________________________________________________\n",
      "batchnormalization_3 (BatchNormal(None, 1028)          2056        dense_2[0][0]                    \n",
      "____________________________________________________________________________________________________\n",
      "dropout_2 (Dropout)              (None, 1028)          0           batchnormalization_3[0][0]       \n",
      "____________________________________________________________________________________________________\n",
      "dense_3 (Dense)                  (None, 17)            17493       dropout_2[0][0]                  \n",
      "====================================================================================================\n",
      "Total params: 24216515\n",
      "____________________________________________________________________________________________________\n"
     ]
    }
   ],
   "source": [
    "vgg.model.summary()"
   ]
  },
  {
   "cell_type": "code",
   "execution_count": 10,
   "metadata": {
    "collapsed": false,
    "scrolled": false
   },
   "outputs": [
    {
     "name": "stderr",
     "output_type": "stream",
     "text": [
      "100%|██████████| 34479/34479 [00:18<00:00, 1888.57it/s]\n"
     ]
    },
    {
     "name": "stdout",
     "output_type": "stream",
     "text": [
      "Done. Size consumed by arrays 1616 mb\n"
     ]
    },
    {
     "name": "stderr",
     "output_type": "stream",
     "text": [
      "100%|██████████| 6000/6000 [00:03<00:00, 1913.67it/s]\n"
     ]
    },
    {
     "name": "stdout",
     "output_type": "stream",
     "text": [
      "Done. Size consumed by arrays 281 mb\n"
     ]
    }
   ],
   "source": [
    "x_train, y_train, y_map = preprocess_train_data(path+'train-jpg1/various', path+'train_v2.csv', img_size)\n",
    "vx_train, vy_train, vy_map = preprocess_train_data(path+'val-jpg1/various', path+'train_v2.csv', img_size)\n",
    "# Free up all available memory space after this heavy operation\n",
    "gc.collect();"
   ]
  },
  {
   "cell_type": "code",
   "execution_count": 14,
   "metadata": {
    "collapsed": true
   },
   "outputs": [],
   "source": [
    "from keras.callbacks import ModelCheckpoint\n",
    "from keras.callbacks import EarlyStopping\n",
    "from ama.persistenthistory import PersistentHistory\n",
    "\n",
    "earlystop = EarlyStopping(patience=5)\n",
    "history = PersistentHistory()"
   ]
  },
  {
   "cell_type": "code",
   "execution_count": 15,
   "metadata": {
    "collapsed": false
   },
   "outputs": [],
   "source": [
    "filepath = '../data/weights/atc_aug_'+cv_version+'_diff_aug_lr1.hk'\n",
    "saver = ModelCheckpoint(filepath, verbose=1, save_best_only=True, save_weights_only=True)"
   ]
  },
  {
   "cell_type": "code",
   "execution_count": 11,
   "metadata": {
    "collapsed": false
   },
   "outputs": [
    {
     "name": "stdout",
     "output_type": "stream",
     "text": [
      "Train on 34479 samples, validate on 6000 samples\n",
      "Epoch 1/10\n",
      "34479/34479 [==============================] - 174s - loss: 0.2802 - acc: 0.8927 - val_loss: 0.2097 - val_acc: 0.9141\n",
      "Epoch 2/10\n",
      "34479/34479 [==============================] - 174s - loss: 0.1679 - acc: 0.9331 - val_loss: 0.1636 - val_acc: 0.9357\n",
      "Epoch 3/10\n",
      "34479/34479 [==============================] - 174s - loss: 0.1574 - acc: 0.9373 - val_loss: 0.1556 - val_acc: 0.9372\n",
      "Epoch 4/10\n",
      "34479/34479 [==============================] - 174s - loss: 0.1513 - acc: 0.9394 - val_loss: 0.1521 - val_acc: 0.9392\n",
      "Epoch 5/10\n",
      "34479/34479 [==============================] - 174s - loss: 0.1479 - acc: 0.9406 - val_loss: 0.1440 - val_acc: 0.9430\n",
      "Epoch 6/10\n",
      "34479/34479 [==============================] - 174s - loss: 0.1454 - acc: 0.9413 - val_loss: 0.1477 - val_acc: 0.9405\n",
      "Epoch 7/10\n",
      "34479/34479 [==============================] - 174s - loss: 0.1431 - acc: 0.9427 - val_loss: 0.1720 - val_acc: 0.9401\n",
      "Epoch 8/10\n",
      "34479/34479 [==============================] - 174s - loss: 0.1407 - acc: 0.9436 - val_loss: 0.1424 - val_acc: 0.9431\n",
      "Epoch 9/10\n",
      "34479/34479 [==============================] - 174s - loss: 0.1391 - acc: 0.9440 - val_loss: 0.1381 - val_acc: 0.9443\n",
      "Epoch 10/10\n",
      "34479/34479 [==============================] - 174s - loss: 0.1369 - acc: 0.9451 - val_loss: 0.1384 - val_acc: 0.9447\n"
     ]
    },
    {
     "data": {
      "text/plain": [
       "<keras.callbacks.History at 0x7f42ca4606d0>"
      ]
     },
     "execution_count": 11,
     "metadata": {},
     "output_type": "execute_result"
    }
   ],
   "source": [
    "vgg.model.compile(optimizer=Adam(lr=0.001),loss='binary_crossentropy', metrics=['accuracy'])\n",
    "vgg.model.fit(x_train, y_train, batch_size=batch_size, validation_data=(vx_train, vy_train))"
   ]
  },
  {
   "cell_type": "code",
   "execution_count": 16,
   "metadata": {
    "collapsed": false
   },
   "outputs": [
    {
     "name": "stdout",
     "output_type": "stream",
     "text": [
      "Train on 34479 samples, validate on 6000 samples\n",
      "Epoch 1/10\n",
      "34479/34479 [==============================] - 174s - loss: 0.1367 - acc: 0.9451 - val_loss: 0.1372 - val_acc: 0.9464\n",
      "Epoch 2/10\n",
      "34479/34479 [==============================] - 174s - loss: 0.1339 - acc: 0.9465 - val_loss: 0.1357 - val_acc: 0.9456\n",
      "Epoch 3/10\n",
      "34479/34479 [==============================] - 174s - loss: 0.1321 - acc: 0.9471 - val_loss: 0.1346 - val_acc: 0.9453\n",
      "Epoch 4/10\n",
      "34479/34479 [==============================] - 174s - loss: 0.1308 - acc: 0.9474 - val_loss: 0.1391 - val_acc: 0.9435\n",
      "Epoch 5/10\n",
      "34479/34479 [==============================] - 174s - loss: 0.1283 - acc: 0.9485 - val_loss: 0.1331 - val_acc: 0.9459\n",
      "Epoch 6/10\n",
      "34479/34479 [==============================] - 174s - loss: 0.1371 - acc: 0.9452 - val_loss: 0.1508 - val_acc: 0.9401\n",
      "Epoch 7/10\n",
      "34479/34479 [==============================] - 174s - loss: 0.1399 - acc: 0.9440 - val_loss: 0.1345 - val_acc: 0.9461\n",
      "Epoch 8/10\n",
      "34479/34479 [==============================] - 174s - loss: 0.1288 - acc: 0.9486 - val_loss: 0.1387 - val_acc: 0.9443\n",
      "Epoch 9/10\n",
      "34479/34479 [==============================] - 174s - loss: 0.1249 - acc: 0.9500 - val_loss: 0.1357 - val_acc: 0.9449\n",
      "Epoch 10/10\n",
      "34479/34479 [==============================] - 174s - loss: 0.1222 - acc: 0.9512 - val_loss: 0.1367 - val_acc: 0.9458\n"
     ]
    },
    {
     "data": {
      "text/plain": [
       "<keras.callbacks.History at 0x7f42c9717650>"
      ]
     },
     "execution_count": 16,
     "metadata": {},
     "output_type": "execute_result"
    }
   ],
   "source": [
    "vgg.model.compile(optimizer=Adam(lr=0.001),loss='binary_crossentropy', metrics=['accuracy'])\n",
    "vgg.model.fit(x_train, y_train, batch_size=batch_size, validation_data=(vx_train, vy_train))"
   ]
  },
  {
   "cell_type": "code",
   "execution_count": 17,
   "metadata": {
    "collapsed": false
   },
   "outputs": [
    {
     "name": "stdout",
     "output_type": "stream",
     "text": [
      "Train on 34479 samples, validate on 6000 samples\n",
      "Epoch 1/10\n",
      "34479/34479 [==============================] - 174s - loss: 0.1212 - acc: 0.9512 - val_loss: 0.1421 - val_acc: 0.9446\n",
      "Epoch 2/10\n",
      "34479/34479 [==============================] - 174s - loss: 0.1170 - acc: 0.9531 - val_loss: 0.1384 - val_acc: 0.9457\n",
      "Epoch 3/10\n",
      "34479/34479 [==============================] - 174s - loss: 0.1137 - acc: 0.9548 - val_loss: 0.1400 - val_acc: 0.9445\n",
      "Epoch 4/10\n",
      "34479/34479 [==============================] - 268s - loss: 0.1100 - acc: 0.9562 - val_loss: 0.1520 - val_acc: 0.9430\n",
      "Epoch 5/10\n",
      "34479/34479 [==============================] - 342s - loss: 0.1061 - acc: 0.9578 - val_loss: 0.1421 - val_acc: 0.9452\n",
      "Epoch 6/10\n",
      "34479/34479 [==============================] - 342s - loss: 0.1022 - acc: 0.9592 - val_loss: 0.1468 - val_acc: 0.9445\n",
      "Epoch 7/10\n",
      "34479/34479 [==============================] - 342s - loss: 0.0992 - acc: 0.9608 - val_loss: 0.1463 - val_acc: 0.9449\n",
      "Epoch 8/10\n",
      "34479/34479 [==============================] - 343s - loss: 0.0940 - acc: 0.9626 - val_loss: 0.1591 - val_acc: 0.9436\n",
      "Epoch 9/10\n",
      "34479/34479 [==============================] - 347s - loss: 0.0900 - acc: 0.9648 - val_loss: 0.1642 - val_acc: 0.9423\n",
      "Epoch 10/10\n",
      "34479/34479 [==============================] - 217s - loss: 0.0858 - acc: 0.9665 - val_loss: 0.1595 - val_acc: 0.9421\n"
     ]
    },
    {
     "data": {
      "text/plain": [
       "<keras.callbacks.History at 0x7f43240cd190>"
      ]
     },
     "execution_count": 17,
     "metadata": {},
     "output_type": "execute_result"
    }
   ],
   "source": [
    "vgg.model.compile(optimizer=Adam(lr=0.001),loss='binary_crossentropy', metrics=['accuracy'])\n",
    "vgg.model.fit(x_train, y_train, batch_size=batch_size, validation_data=(vx_train, vy_train))"
   ]
  },
  {
   "cell_type": "code",
   "execution_count": null,
   "metadata": {
    "collapsed": false
   },
   "outputs": [
    {
     "name": "stdout",
     "output_type": "stream",
     "text": [
      "Train on 34479 samples, validate on 6000 samples\n",
      "Epoch 1/10\n",
      "34479/34479 [==============================] - 174s - loss: 0.0668 - acc: 0.9749 - val_loss: 0.1611 - val_acc: 0.9446\n",
      "Epoch 2/10\n",
      "34479/34479 [==============================] - 174s - loss: 0.0596 - acc: 0.9783 - val_loss: 0.1687 - val_acc: 0.9439\n",
      "Epoch 3/10\n",
      "17792/34479 [==============>...............] - ETA: 79s - loss: 0.0548 - acc: 0.9804"
     ]
    }
   ],
   "source": [
    "vgg.model.compile(optimizer=Adam(lr=0.0001),loss='binary_crossentropy', metrics=['accuracy'])\n",
    "vgg.model.fit(x_train, y_train, batch_size=batch_size, validation_data=(vx_train, vy_train))"
   ]
  },
  {
   "cell_type": "code",
   "execution_count": null,
   "metadata": {
    "collapsed": true
   },
   "outputs": [],
   "source": [
    "vgg.model.load_weights(filepath)"
   ]
  },
  {
   "cell_type": "code",
   "execution_count": null,
   "metadata": {
    "collapsed": true
   },
   "outputs": [],
   "source": [
    "filepath = '../data/weights/atc'+cv_version+'_diff_aug_lr2.hk'\n",
    "saver = ModelCheckpoint(filepath, verbose=1, save_best_only=True, save_weights_only=True)"
   ]
  },
  {
   "cell_type": "code",
   "execution_count": 18,
   "metadata": {
    "collapsed": false
   },
   "outputs": [
    {
     "ename": "NameError",
     "evalue": "name 'traingen' is not defined",
     "output_type": "error",
     "traceback": [
      "\u001b[0;31m---------------------------------------------------------------------------\u001b[0m",
      "\u001b[0;31mNameError\u001b[0m                                 Traceback (most recent call last)",
      "\u001b[0;32m<ipython-input-18-7b9581dcfaff>\u001b[0m in \u001b[0;36m<module>\u001b[0;34m()\u001b[0m\n\u001b[1;32m      1\u001b[0m \u001b[0mvgg\u001b[0m\u001b[0;34m.\u001b[0m\u001b[0mmodel\u001b[0m\u001b[0;34m.\u001b[0m\u001b[0mcompile\u001b[0m\u001b[0;34m(\u001b[0m\u001b[0moptimizer\u001b[0m\u001b[0;34m=\u001b[0m\u001b[0mAdam\u001b[0m\u001b[0;34m(\u001b[0m\u001b[0mlr\u001b[0m\u001b[0;34m=\u001b[0m\u001b[0;36m0.0001\u001b[0m\u001b[0;34m)\u001b[0m\u001b[0;34m,\u001b[0m\u001b[0mloss\u001b[0m\u001b[0;34m=\u001b[0m\u001b[0;34m'binary_crossentropy'\u001b[0m\u001b[0;34m,\u001b[0m \u001b[0mmetrics\u001b[0m\u001b[0;34m=\u001b[0m\u001b[0;34m[\u001b[0m\u001b[0;34m'accuracy'\u001b[0m\u001b[0;34m]\u001b[0m\u001b[0;34m)\u001b[0m\u001b[0;34m\u001b[0m\u001b[0m\n\u001b[0;32m----> 2\u001b[0;31m vgg.model.fit_generator(traingen, samples_per_epoch=traingen.nb_sample, nb_epoch=5,\n\u001b[0m\u001b[1;32m      3\u001b[0m                         validation_data=valgen, nb_val_samples=valgen.nb_sample, class_weight=class_weights)\n",
      "\u001b[0;31mNameError\u001b[0m: name 'traingen' is not defined"
     ]
    }
   ],
   "source": [
    "vgg.model.compile(optimizer=Adam(lr=0.0001),loss='binary_crossentropy', metrics=['accuracy'])\n",
    "vgg.model.fit_generator(traingen, samples_per_epoch=traingen.nb_sample, nb_epoch=5,\n",
    "                        validation_data=valgen, nb_val_samples=valgen.nb_sample, class_weight=class_weights)"
   ]
  },
  {
   "cell_type": "code",
   "execution_count": 43,
   "metadata": {
    "collapsed": false
   },
   "outputs": [
    {
     "name": "stdout",
     "output_type": "stream",
     "text": [
      "Epoch 1/14\n",
      "4000/4000 [==============================] - 10s - loss: 0.2624 - acc: 0.9055 - val_loss: 0.2588 - val_acc: 0.9022\n",
      "Epoch 2/14\n",
      "4000/4000 [==============================] - 8s - loss: 0.2629 - acc: 0.9046 - val_loss: 0.2569 - val_acc: 0.9026\n",
      "Epoch 3/14\n",
      "4000/4000 [==============================] - 8s - loss: 0.2614 - acc: 0.9047 - val_loss: 0.2563 - val_acc: 0.9026\n",
      "Epoch 4/14\n",
      "4000/4000 [==============================] - 9s - loss: 0.2628 - acc: 0.9049 - val_loss: 0.2573 - val_acc: 0.9024\n",
      "Epoch 5/14\n",
      "3872/4000 [============================>.] - ETA: 0s - loss: 0.2597 - acc: 0.9055"
     ]
    },
    {
     "ename": "KeyboardInterrupt",
     "evalue": "",
     "output_type": "error",
     "traceback": [
      "\u001b[0;31m---------------------------------------------------------------------------\u001b[0m",
      "\u001b[0;31mKeyboardInterrupt\u001b[0m                         Traceback (most recent call last)",
      "\u001b[0;32m<ipython-input-43-85ee6874682a>\u001b[0m in \u001b[0;36m<module>\u001b[0;34m()\u001b[0m\n\u001b[1;32m      1\u001b[0m \u001b[0mvgg\u001b[0m\u001b[0;34m.\u001b[0m\u001b[0mmodel\u001b[0m\u001b[0;34m.\u001b[0m\u001b[0mcompile\u001b[0m\u001b[0;34m(\u001b[0m\u001b[0moptimizer\u001b[0m\u001b[0;34m=\u001b[0m\u001b[0mAdam\u001b[0m\u001b[0;34m(\u001b[0m\u001b[0mlr\u001b[0m\u001b[0;34m=\u001b[0m\u001b[0;36m0.001\u001b[0m\u001b[0;34m)\u001b[0m\u001b[0;34m,\u001b[0m\u001b[0mloss\u001b[0m\u001b[0;34m=\u001b[0m\u001b[0;34m'binary_crossentropy'\u001b[0m\u001b[0;34m,\u001b[0m \u001b[0mmetrics\u001b[0m\u001b[0;34m=\u001b[0m\u001b[0;34m[\u001b[0m\u001b[0;34m'accuracy'\u001b[0m\u001b[0;34m]\u001b[0m\u001b[0;34m)\u001b[0m\u001b[0;34m\u001b[0m\u001b[0m\n\u001b[1;32m      2\u001b[0m vgg.model.fit_generator(traingen, samples_per_epoch=traingen.nb_sample, nb_epoch=14,\n\u001b[0;32m----> 3\u001b[0;31m                         validation_data=valgen, nb_val_samples=valgen.nb_sample)\n\u001b[0m",
      "\u001b[0;32m/home/ubuntu/anaconda2/lib/python2.7/site-packages/keras/models.pyc\u001b[0m in \u001b[0;36mfit_generator\u001b[0;34m(self, generator, samples_per_epoch, nb_epoch, verbose, callbacks, validation_data, nb_val_samples, class_weight, max_q_size, nb_worker, pickle_safe, **kwargs)\u001b[0m\n\u001b[1;32m    872\u001b[0m                                         \u001b[0mmax_q_size\u001b[0m\u001b[0;34m=\u001b[0m\u001b[0mmax_q_size\u001b[0m\u001b[0;34m,\u001b[0m\u001b[0;34m\u001b[0m\u001b[0m\n\u001b[1;32m    873\u001b[0m                                         \u001b[0mnb_worker\u001b[0m\u001b[0;34m=\u001b[0m\u001b[0mnb_worker\u001b[0m\u001b[0;34m,\u001b[0m\u001b[0;34m\u001b[0m\u001b[0m\n\u001b[0;32m--> 874\u001b[0;31m                                         pickle_safe=pickle_safe)\n\u001b[0m\u001b[1;32m    875\u001b[0m \u001b[0;34m\u001b[0m\u001b[0m\n\u001b[1;32m    876\u001b[0m     \u001b[0;32mdef\u001b[0m \u001b[0mevaluate_generator\u001b[0m\u001b[0;34m(\u001b[0m\u001b[0mself\u001b[0m\u001b[0;34m,\u001b[0m \u001b[0mgenerator\u001b[0m\u001b[0;34m,\u001b[0m \u001b[0mval_samples\u001b[0m\u001b[0;34m,\u001b[0m \u001b[0mmax_q_size\u001b[0m\u001b[0;34m=\u001b[0m\u001b[0;36m10\u001b[0m\u001b[0;34m,\u001b[0m \u001b[0mnb_worker\u001b[0m\u001b[0;34m=\u001b[0m\u001b[0;36m1\u001b[0m\u001b[0;34m,\u001b[0m \u001b[0mpickle_safe\u001b[0m\u001b[0;34m=\u001b[0m\u001b[0mFalse\u001b[0m\u001b[0;34m,\u001b[0m \u001b[0;34m**\u001b[0m\u001b[0mkwargs\u001b[0m\u001b[0;34m)\u001b[0m\u001b[0;34m:\u001b[0m\u001b[0;34m\u001b[0m\u001b[0m\n",
      "\u001b[0;32m/home/ubuntu/anaconda2/lib/python2.7/site-packages/keras/engine/training.pyc\u001b[0m in \u001b[0;36mfit_generator\u001b[0;34m(self, generator, samples_per_epoch, nb_epoch, verbose, callbacks, validation_data, nb_val_samples, class_weight, max_q_size, nb_worker, pickle_safe)\u001b[0m\n\u001b[1;32m   1441\u001b[0m                     outs = self.train_on_batch(x, y,\n\u001b[1;32m   1442\u001b[0m                                                \u001b[0msample_weight\u001b[0m\u001b[0;34m=\u001b[0m\u001b[0msample_weight\u001b[0m\u001b[0;34m,\u001b[0m\u001b[0;34m\u001b[0m\u001b[0m\n\u001b[0;32m-> 1443\u001b[0;31m                                                class_weight=class_weight)\n\u001b[0m\u001b[1;32m   1444\u001b[0m                 \u001b[0;32mexcept\u001b[0m\u001b[0;34m:\u001b[0m\u001b[0;34m\u001b[0m\u001b[0m\n\u001b[1;32m   1445\u001b[0m                     \u001b[0m_stop\u001b[0m\u001b[0;34m.\u001b[0m\u001b[0mset\u001b[0m\u001b[0;34m(\u001b[0m\u001b[0;34m)\u001b[0m\u001b[0;34m\u001b[0m\u001b[0m\n",
      "\u001b[0;32m/home/ubuntu/anaconda2/lib/python2.7/site-packages/keras/engine/training.pyc\u001b[0m in \u001b[0;36mtrain_on_batch\u001b[0;34m(self, x, y, sample_weight, class_weight)\u001b[0m\n\u001b[1;32m   1219\u001b[0m             \u001b[0mins\u001b[0m \u001b[0;34m=\u001b[0m \u001b[0mx\u001b[0m \u001b[0;34m+\u001b[0m \u001b[0my\u001b[0m \u001b[0;34m+\u001b[0m \u001b[0msample_weights\u001b[0m\u001b[0;34m\u001b[0m\u001b[0m\n\u001b[1;32m   1220\u001b[0m         \u001b[0mself\u001b[0m\u001b[0;34m.\u001b[0m\u001b[0m_make_train_function\u001b[0m\u001b[0;34m(\u001b[0m\u001b[0;34m)\u001b[0m\u001b[0;34m\u001b[0m\u001b[0m\n\u001b[0;32m-> 1221\u001b[0;31m         \u001b[0moutputs\u001b[0m \u001b[0;34m=\u001b[0m \u001b[0mself\u001b[0m\u001b[0;34m.\u001b[0m\u001b[0mtrain_function\u001b[0m\u001b[0;34m(\u001b[0m\u001b[0mins\u001b[0m\u001b[0;34m)\u001b[0m\u001b[0;34m\u001b[0m\u001b[0m\n\u001b[0m\u001b[1;32m   1222\u001b[0m         \u001b[0;32mif\u001b[0m \u001b[0mlen\u001b[0m\u001b[0;34m(\u001b[0m\u001b[0moutputs\u001b[0m\u001b[0;34m)\u001b[0m \u001b[0;34m==\u001b[0m \u001b[0;36m1\u001b[0m\u001b[0;34m:\u001b[0m\u001b[0;34m\u001b[0m\u001b[0m\n\u001b[1;32m   1223\u001b[0m             \u001b[0;32mreturn\u001b[0m \u001b[0moutputs\u001b[0m\u001b[0;34m[\u001b[0m\u001b[0;36m0\u001b[0m\u001b[0;34m]\u001b[0m\u001b[0;34m\u001b[0m\u001b[0m\n",
      "\u001b[0;32m/home/ubuntu/anaconda2/lib/python2.7/site-packages/keras/backend/theano_backend.pyc\u001b[0m in \u001b[0;36m__call__\u001b[0;34m(self, inputs)\u001b[0m\n\u001b[1;32m    715\u001b[0m     \u001b[0;32mdef\u001b[0m \u001b[0m__call__\u001b[0m\u001b[0;34m(\u001b[0m\u001b[0mself\u001b[0m\u001b[0;34m,\u001b[0m \u001b[0minputs\u001b[0m\u001b[0;34m)\u001b[0m\u001b[0;34m:\u001b[0m\u001b[0;34m\u001b[0m\u001b[0m\n\u001b[1;32m    716\u001b[0m         \u001b[0;32massert\u001b[0m \u001b[0mtype\u001b[0m\u001b[0;34m(\u001b[0m\u001b[0minputs\u001b[0m\u001b[0;34m)\u001b[0m \u001b[0;32min\u001b[0m \u001b[0;34m{\u001b[0m\u001b[0mlist\u001b[0m\u001b[0;34m,\u001b[0m \u001b[0mtuple\u001b[0m\u001b[0;34m}\u001b[0m\u001b[0;34m\u001b[0m\u001b[0m\n\u001b[0;32m--> 717\u001b[0;31m         \u001b[0;32mreturn\u001b[0m \u001b[0mself\u001b[0m\u001b[0;34m.\u001b[0m\u001b[0mfunction\u001b[0m\u001b[0;34m(\u001b[0m\u001b[0;34m*\u001b[0m\u001b[0minputs\u001b[0m\u001b[0;34m)\u001b[0m\u001b[0;34m\u001b[0m\u001b[0m\n\u001b[0m\u001b[1;32m    718\u001b[0m \u001b[0;34m\u001b[0m\u001b[0m\n\u001b[1;32m    719\u001b[0m \u001b[0;34m\u001b[0m\u001b[0m\n",
      "\u001b[0;32m/home/ubuntu/anaconda2/lib/python2.7/site-packages/theano/compile/function_module.pyc\u001b[0m in \u001b[0;36m__call__\u001b[0;34m(self, *args, **kwargs)\u001b[0m\n\u001b[1;32m    857\u001b[0m         \u001b[0mt0_fn\u001b[0m \u001b[0;34m=\u001b[0m \u001b[0mtime\u001b[0m\u001b[0;34m.\u001b[0m\u001b[0mtime\u001b[0m\u001b[0;34m(\u001b[0m\u001b[0;34m)\u001b[0m\u001b[0;34m\u001b[0m\u001b[0m\n\u001b[1;32m    858\u001b[0m         \u001b[0;32mtry\u001b[0m\u001b[0;34m:\u001b[0m\u001b[0;34m\u001b[0m\u001b[0m\n\u001b[0;32m--> 859\u001b[0;31m             \u001b[0moutputs\u001b[0m \u001b[0;34m=\u001b[0m \u001b[0mself\u001b[0m\u001b[0;34m.\u001b[0m\u001b[0mfn\u001b[0m\u001b[0;34m(\u001b[0m\u001b[0;34m)\u001b[0m\u001b[0;34m\u001b[0m\u001b[0m\n\u001b[0m\u001b[1;32m    860\u001b[0m         \u001b[0;32mexcept\u001b[0m \u001b[0mException\u001b[0m\u001b[0;34m:\u001b[0m\u001b[0;34m\u001b[0m\u001b[0m\n\u001b[1;32m    861\u001b[0m             \u001b[0;32mif\u001b[0m \u001b[0mhasattr\u001b[0m\u001b[0;34m(\u001b[0m\u001b[0mself\u001b[0m\u001b[0;34m.\u001b[0m\u001b[0mfn\u001b[0m\u001b[0;34m,\u001b[0m \u001b[0;34m'position_of_error'\u001b[0m\u001b[0;34m)\u001b[0m\u001b[0;34m:\u001b[0m\u001b[0;34m\u001b[0m\u001b[0m\n",
      "\u001b[0;31mKeyboardInterrupt\u001b[0m: "
     ]
    }
   ],
   "source": [
    "vgg.model.compile(optimizer=Adam(lr=0.001),loss='binary_crossentropy', metrics=['accuracy'])\n",
    "vgg.model.fit_generator(traingen, samples_per_epoch=traingen.nb_sample, nb_epoch=14,\n",
    "                        validation_data=valgen, nb_val_samples=valgen.nb_sample)"
   ]
  },
  {
   "cell_type": "code",
   "execution_count": 22,
   "metadata": {
    "collapsed": false
   },
   "outputs": [
    {
     "name": "stdout",
     "output_type": "stream",
     "text": [
      "Epoch 1/5\n",
      "4000/4000 [==============================] - 9s - loss: 0.6954 - acc: 0.5695 - val_loss: 0.6614 - val_acc: 0.7778\n",
      "Epoch 2/5\n",
      "4000/4000 [==============================] - 9s - loss: 0.6551 - acc: 0.7164 - val_loss: 0.6470 - val_acc: 0.8806\n",
      "Epoch 3/5\n",
      "4000/4000 [==============================] - 8s - loss: 0.6324 - acc: 0.8457 - val_loss: 0.6228 - val_acc: 0.9025\n",
      "Epoch 4/5\n",
      "4000/4000 [==============================] - 8s - loss: 0.6076 - acc: 0.8900 - val_loss: 0.5911 - val_acc: 0.9026\n",
      "Epoch 5/5\n",
      "4000/4000 [==============================] - 9s - loss: 0.5796 - acc: 0.9026 - val_loss: 0.5660 - val_acc: 0.9026\n"
     ]
    },
    {
     "data": {
      "text/plain": [
       "<keras.callbacks.History at 0x7f1c63a4d610>"
      ]
     },
     "execution_count": 22,
     "metadata": {},
     "output_type": "execute_result"
    }
   ],
   "source": [
    "vgg.model.compile(optimizer=Adam(lr=0.0001),loss='binary_crossentropy', metrics=['accuracy'])\n",
    "vgg.model.fit_generator(traingen, samples_per_epoch=traingen.nb_sample, nb_epoch=5,\n",
    "                        validation_data=valgen, nb_val_samples=valgen.nb_sample)"
   ]
  },
  {
   "cell_type": "code",
   "execution_count": 25,
   "metadata": {
    "collapsed": false
   },
   "outputs": [
    {
     "name": "stdout",
     "output_type": "stream",
     "text": [
      "Epoch 1/5\n",
      "4000/4000 [==============================] - 10s - loss: 0.5508 - acc: 0.9042 - val_loss: 0.5419 - val_acc: 0.9026\n",
      "Epoch 2/5\n",
      "4000/4000 [==============================] - 8s - loss: 0.5221 - acc: 0.9064 - val_loss: 0.5144 - val_acc: 0.9026\n",
      "Epoch 3/5\n",
      "4000/4000 [==============================] - 9s - loss: 0.4921 - acc: 0.9069 - val_loss: 0.4773 - val_acc: 0.9026\n",
      "Epoch 4/5\n",
      "4000/4000 [==============================] - 8s - loss: 0.4620 - acc: 0.9069 - val_loss: 0.4479 - val_acc: 0.9026\n",
      "Epoch 5/5\n",
      "4000/4000 [==============================] - 8s - loss: 0.4337 - acc: 0.9070 - val_loss: 0.4184 - val_acc: 0.9026\n"
     ]
    },
    {
     "data": {
      "text/plain": [
       "<keras.callbacks.History at 0x7f1c6364fc50>"
      ]
     },
     "execution_count": 25,
     "metadata": {},
     "output_type": "execute_result"
    }
   ],
   "source": [
    "vgg.model.compile(optimizer=Adam(lr=0.0001),loss='binary_crossentropy', metrics=['accuracy'])\n",
    "vgg.model.fit_generator(traingen, samples_per_epoch=traingen.nb_sample, nb_epoch=5,\n",
    "                        validation_data=valgen, nb_val_samples=valgen.nb_sample)"
   ]
  },
  {
   "cell_type": "code",
   "execution_count": 28,
   "metadata": {
    "collapsed": false
   },
   "outputs": [
    {
     "name": "stdout",
     "output_type": "stream",
     "text": [
      "Epoch 1/5\n",
      "4000/4000 [==============================] - 10s - loss: 0.3330 - acc: 0.9047 - val_loss: 0.3089 - val_acc: 0.9026\n",
      "Epoch 2/5\n",
      "4000/4000 [==============================] - 8s - loss: 0.2649 - acc: 0.9070 - val_loss: 0.4280 - val_acc: 0.8656\n",
      "Epoch 3/5\n",
      "4000/4000 [==============================] - 9s - loss: 0.2573 - acc: 0.9070 - val_loss: 0.3025 - val_acc: 0.9026\n",
      "Epoch 4/5\n",
      "4000/4000 [==============================] - 8s - loss: 0.2553 - acc: 0.9070 - val_loss: 0.2672 - val_acc: 0.9026\n",
      "Epoch 5/5\n",
      "4000/4000 [==============================] - 8s - loss: 0.2544 - acc: 0.9070 - val_loss: 0.2625 - val_acc: 0.9026\n"
     ]
    },
    {
     "data": {
      "text/plain": [
       "<keras.callbacks.History at 0x7f1c73ae9910>"
      ]
     },
     "execution_count": 28,
     "metadata": {},
     "output_type": "execute_result"
    }
   ],
   "source": [
    "vgg.model.compile(optimizer=Adam(lr=0.001),loss='binary_crossentropy', metrics=['accuracy'])\n",
    "vgg.model.fit_generator(traingen, samples_per_epoch=traingen.nb_sample, nb_epoch=5,\n",
    "                        validation_data=valgen, nb_val_samples=valgen.nb_sample)"
   ]
  },
  {
   "cell_type": "code",
   "execution_count": 57,
   "metadata": {
    "collapsed": true
   },
   "outputs": [],
   "source": [
    "preds = vgg.model.predict_generator(traingen, traingen.nb_sample)"
   ]
  },
  {
   "cell_type": "code",
   "execution_count": 60,
   "metadata": {
    "collapsed": false
   },
   "outputs": [
    {
     "data": {
      "text/plain": [
       "array([ 0.01696215,  0.01674472,  0.0167875 , ...,  0.01675965,\n",
       "        0.01569044,  0.0170305 ], dtype=float32)"
      ]
     },
     "execution_count": 60,
     "metadata": {},
     "output_type": "execute_result"
    }
   ],
   "source": []
  },
  {
   "cell_type": "code",
   "execution_count": 49,
   "metadata": {
    "collapsed": false
   },
   "outputs": [
    {
     "data": {
      "text/plain": [
       "array([ 189.30000305,    3.24000001,    1.72000003,    2.29999995,\n",
       "          4.78000021,  463.79000854,   33.86999893,    1.        ,\n",
       "         80.68000031,   59.18999863,   25.10000038,   66.55000305,\n",
       "        559.72998047,  154.77999878,    1.03999996,    2.16000009,\n",
       "         89.87999725], dtype=float32)"
      ]
     },
     "execution_count": 49,
     "metadata": {},
     "output_type": "execute_result"
    }
   ],
   "source": [
    "np.round(preds[0]/min(preds[0]),2)"
   ]
  },
  {
   "cell_type": "code",
   "execution_count": null,
   "metadata": {
    "collapsed": true
   },
   "outputs": [],
   "source": []
  },
  {
   "cell_type": "code",
   "execution_count": null,
   "metadata": {
    "collapsed": true
   },
   "outputs": [],
   "source": [
    "labels = [\n",
    "    \"agriculture\",\n",
    "    \"artisinal_mine\",\n",
    "    \"bare_ground\",\n",
    "    \"blooming\",\n",
    "    \"blow_down\",\n",
    "    \"clear\",\n",
    "    \"cloudy\",\n",
    "    \"conventional_mine\",\n",
    "    \"cultivation\",\n",
    "    \"habitation\",\n",
    "    \"haze\",\n",
    "    \"partly_cloudy\",\n",
    "    \"primary\",\n",
    "    \"road\",\n",
    "    \"selective_logging\",\n",
    "    \"slash_burn\",\n",
    "    \"water\"\n",
    "]\n"
   ]
  },
  {
   "cell_type": "code",
   "execution_count": null,
   "metadata": {
    "collapsed": true
   },
   "outputs": [],
   "source": [
    "preds"
   ]
  },
  {
   "cell_type": "code",
   "execution_count": null,
   "metadata": {
    "collapsed": true
   },
   "outputs": [],
   "source": []
  },
  {
   "cell_type": "code",
   "execution_count": null,
   "metadata": {
    "collapsed": true
   },
   "outputs": [],
   "source": [
    "labels[0]"
   ]
  }
 ],
 "metadata": {
  "anaconda-cloud": {},
  "kernelspec": {
   "display_name": "Python [default]",
   "language": "python",
   "name": "python2"
  },
  "language_info": {
   "codemirror_mode": {
    "name": "ipython",
    "version": 2
   },
   "file_extension": ".py",
   "mimetype": "text/x-python",
   "name": "python",
   "nbconvert_exporter": "python",
   "pygments_lexer": "ipython2",
   "version": "2.7.12"
  }
 },
 "nbformat": 4,
 "nbformat_minor": 1
}
