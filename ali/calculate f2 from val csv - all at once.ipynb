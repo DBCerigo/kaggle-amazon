{
 "cells": [
  {
   "cell_type": "code",
   "execution_count": 1,
   "metadata": {
    "collapsed": false
   },
   "outputs": [],
   "source": [
    "%load_ext autoreload\n",
    "%autoreload 2"
   ]
  },
  {
   "cell_type": "code",
   "execution_count": 2,
   "metadata": {
    "collapsed": true
   },
   "outputs": [],
   "source": [
    "import csv\n",
    "from sklearn.metrics import fbeta_score\n",
    "import numpy as np"
   ]
  },
  {
   "cell_type": "code",
   "execution_count": 3,
   "metadata": {
    "collapsed": false
   },
   "outputs": [
    {
     "name": "stderr",
     "output_type": "stream",
     "text": [
      "Using Theano backend.\n",
      "Using gpu device 0: Tesla K80 (CNMeM is disabled, cuDNN 5103)\n",
      "/home/ubuntu/anaconda2/lib/python2.7/site-packages/theano/sandbox/cuda/__init__.py:600: UserWarning: Your cuDNN version is more recent than the one Theano officially supports. If you see any problems, try updating Theano or downgrading cuDNN to version 5.\n",
      "  warnings.warn(warn)\n"
     ]
    }
   ],
   "source": [
    "import sys,os\n",
    "sys.path.append('../')\n",
    "import ama"
   ]
  },
  {
   "cell_type": "code",
   "execution_count": 4,
   "metadata": {
    "collapsed": false
   },
   "outputs": [],
   "source": [
    "import csv\n",
    "import numpy as np\n",
    "\n",
    "def read_val_data(fp):\n",
    "    with open(fp) as csvf:\n",
    "        reader = csv.reader(csvf)\n",
    "        headers = reader.next()\n",
    "        guesses = []\n",
    "        trues = []\n",
    "        filenames = []\n",
    "        for row in reader:\n",
    "            guesses.append(np.array(row[1:18], dtype=float))\n",
    "            trues.append(np.array(row[18:], dtype=float))\n",
    "            filenames.append(row[0])\n",
    "    guesses = np.stack(guesses)\n",
    "    trues = np.stack(trues)\n",
    "    return filenames, trues, guesses\n",
    "\n",
    "def tag_guesses(guesses, thresholds):\n",
    "    return np.array(guesses>thresholds, dtype=float)\n",
    "                \n",
    "\n",
    "def f2(y_true, y_pred):\n",
    "    beta = 2\n",
    "    \n",
    "    tp = np.sum(y_true*y_pred)\n",
    "    fp = np.sum(np.clip(y_pred - y_true, 0, 1))\n",
    "    fn = np.sum(np.clip(y_true - y_pred, 0, 1))\n",
    "\n",
    "    precision = tp / (tp + fp)\n",
    "    recall = tp / (tp + fn)\n",
    "\n",
    "    beta_squared = beta ** 2\n",
    "    return (beta_squared + 1) * (precision * recall) / (beta_squared * precision + recall)\n",
    "\n",
    "def find_f2_thresholds(trues, guesses):\n",
    "    \n",
    "    best = 0\n",
    "    best_score = -1\n",
    "    totry = np.arange(0,1,0.005)\n",
    "    for v in totry:\n",
    "        thresholds = np.array([v for _ in range(17)])\n",
    "        score = f2(trues, tag_guesses(guesses, thresholds))\n",
    "        if score>best_score:\n",
    "            best_score = score\n",
    "            best = v\n",
    "    thresholds = np.array([best for _ in range(17)])\n",
    "        \n",
    "    return thresholds"
   ]
  },
  {
   "cell_type": "code",
   "execution_count": 5,
   "metadata": {
    "collapsed": false
   },
   "outputs": [],
   "source": [
    "fp = '../submissions/atc_2_val.csv'"
   ]
  },
  {
   "cell_type": "code",
   "execution_count": 6,
   "metadata": {
    "collapsed": false
   },
   "outputs": [],
   "source": [
    "filenames, trues, guesses = read_val_data(fp)"
   ]
  },
  {
   "cell_type": "code",
   "execution_count": 7,
   "metadata": {
    "collapsed": false
   },
   "outputs": [],
   "source": [
    "thresholds = find_f2_thresholds(trues, guesses)"
   ]
  },
  {
   "cell_type": "code",
   "execution_count": 8,
   "metadata": {
    "collapsed": false
   },
   "outputs": [
    {
     "data": {
      "text/plain": [
       "0.89831296493092461"
      ]
     },
     "execution_count": 8,
     "metadata": {},
     "output_type": "execute_result"
    }
   ],
   "source": [
    "f2(trues, tag_guesses(guesses, thresholds))"
   ]
  },
  {
   "cell_type": "code",
   "execution_count": 9,
   "metadata": {
    "collapsed": false
   },
   "outputs": [
    {
     "data": {
      "text/plain": [
       "0.89768307309472828"
      ]
     },
     "execution_count": 9,
     "metadata": {},
     "output_type": "execute_result"
    }
   ],
   "source": [
    "f2(trues, tag_guesses(guesses, np.array([0.2 for _ in range(17)])))"
   ]
  },
  {
   "cell_type": "code",
   "execution_count": 10,
   "metadata": {
    "collapsed": false
   },
   "outputs": [
    {
     "data": {
      "text/plain": [
       "array([ 0.16,  0.16,  0.16,  0.16,  0.16,  0.16,  0.16,  0.16,  0.16,\n",
       "        0.16,  0.16,  0.16,  0.16,  0.16,  0.16,  0.16,  0.16])"
      ]
     },
     "execution_count": 10,
     "metadata": {},
     "output_type": "execute_result"
    }
   ],
   "source": [
    "thresholds"
   ]
  },
  {
   "cell_type": "code",
   "execution_count": 11,
   "metadata": {
    "collapsed": true
   },
   "outputs": [],
   "source": [
    "preds = tag_guesses(guesses, thresholds)"
   ]
  },
  {
   "cell_type": "code",
   "execution_count": 12,
   "metadata": {
    "collapsed": false
   },
   "outputs": [],
   "source": [
    "def read_presubmission(fp):\n",
    "    with open(fp,'r') as csvf:\n",
    "        reader = csv.reader(csvf)\n",
    "        headers = reader.next()\n",
    "        filenames = []\n",
    "        guesses = []\n",
    "        for row in reader:\n",
    "            filenames.append(row[0])\n",
    "            guesses.append(np.array(row[1:], dtype=float))\n",
    "    return filenames, np.stack(guesses)"
   ]
  },
  {
   "cell_type": "code",
   "execution_count": 13,
   "metadata": {
    "collapsed": false
   },
   "outputs": [],
   "source": [
    "fp = '../submissions/atc_2_test_presub.csv'\n",
    "write_fp = '../submissions/atc_2_test_sub_thresh_val_set_all_together.csv'"
   ]
  },
  {
   "cell_type": "code",
   "execution_count": 14,
   "metadata": {
    "collapsed": false
   },
   "outputs": [],
   "source": [
    "filenames, guesses = read_presubmission(fp)"
   ]
  },
  {
   "cell_type": "code",
   "execution_count": 15,
   "metadata": {
    "collapsed": true
   },
   "outputs": [],
   "source": [
    "labelorder =  [\"agriculture\",\n",
    "            \"artisinal_mine\",\n",
    "            \"bare_ground\",\n",
    "            \"blooming\",\n",
    "            \"blow_down\",\n",
    "            \"clear\",\n",
    "            \"cloudy\",\n",
    "            \"conventional_mine\",\n",
    "            \"cultivation\",\n",
    "            \"habitation\",\n",
    "            \"haze\",\n",
    "            \"partly_cloudy\",\n",
    "            \"primary\",\n",
    "            \"road\",\n",
    "            \"selective_logging\",\n",
    "            \"slash_burn\",\n",
    "            \"water\"\n",
    "        ]"
   ]
  },
  {
   "cell_type": "code",
   "execution_count": 16,
   "metadata": {
    "collapsed": false
   },
   "outputs": [],
   "source": [
    "ama.submissions.write_submission(guesses, filenames, labelorder, thresholds, write_fp)"
   ]
  },
  {
   "cell_type": "code",
   "execution_count": 70,
   "metadata": {
    "collapsed": true
   },
   "outputs": [],
   "source": [
    "from IPython.display import FileLink"
   ]
  },
  {
   "cell_type": "code",
   "execution_count": 71,
   "metadata": {
    "collapsed": false
   },
   "outputs": [
    {
     "data": {
      "text/html": [
       "<a href='../submissions/atc_1_test_sub_thresh_val_set_all_together.csv' target='_blank'>../submissions/atc_1_test_sub_thresh_val_set_all_together.csv</a><br>"
      ],
      "text/plain": [
       "/home/ubuntu/persist/amazon/submissions/atc_1_test_sub_thresh_val_set_all_together.csv"
      ]
     },
     "execution_count": 71,
     "metadata": {},
     "output_type": "execute_result"
    }
   ],
   "source": [
    "FileLink(write_fp)"
   ]
  },
  {
   "cell_type": "code",
   "execution_count": null,
   "metadata": {
    "collapsed": true
   },
   "outputs": [],
   "source": []
  }
 ],
 "metadata": {
  "anaconda-cloud": {},
  "kernelspec": {
   "display_name": "Python [default]",
   "language": "python",
   "name": "python2"
  },
  "language_info": {
   "codemirror_mode": {
    "name": "ipython",
    "version": 2
   },
   "file_extension": ".py",
   "mimetype": "text/x-python",
   "name": "python",
   "nbconvert_exporter": "python",
   "pygments_lexer": "ipython2",
   "version": "2.7.12"
  }
 },
 "nbformat": 4,
 "nbformat_minor": 1
}
