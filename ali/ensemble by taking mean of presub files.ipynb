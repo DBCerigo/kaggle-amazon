{
 "cells": [
  {
   "cell_type": "code",
   "execution_count": 23,
   "metadata": {
    "collapsed": false
   },
   "outputs": [],
   "source": [
    "import csv\n",
    "import sys,os\n",
    "sys.path.append('../')\n",
    "import ama"
   ]
  },
  {
   "cell_type": "code",
   "execution_count": 9,
   "metadata": {
    "collapsed": true
   },
   "outputs": [],
   "source": [
    "fp1 = '../submissions/xgb_presub.csv'\n",
    "fp2 = '../submissions/atc_1_test_presub.csv'\n",
    "fp3 = '../submissions/atc_1_v2_test_presub.csv'"
   ]
  },
  {
   "cell_type": "code",
   "execution_count": 10,
   "metadata": {
    "collapsed": false
   },
   "outputs": [],
   "source": [
    "filenames1, mapping1 = ama.submissions.read_presubmission_for_ensemble(fp1)\n",
    "filenames2, mapping2 = ama.submissions.read_presubmission_for_ensemble(fp2)\n",
    "filenames3, mapping3 = ama.submissions.read_presubmission_for_ensemble(fp3)"
   ]
  },
  {
   "cell_type": "code",
   "execution_count": 18,
   "metadata": {
    "collapsed": false
   },
   "outputs": [],
   "source": [
    "combined_mapping = a.submissions.combine_presub_mappings(filenames1, [mapping1,mapping2,mapping3])"
   ]
  },
  {
   "cell_type": "code",
   "execution_count": 27,
   "metadata": {
    "collapsed": true
   },
   "outputs": [],
   "source": [
    "fn = '../submissions/ensemble_xgb1_atc1_atc1v2_presub.csv'\n",
    "a.submissions.write_presub_mapping_to_file(combined_mapping, fn)"
   ]
  }
 ],
 "metadata": {
  "anaconda-cloud": {},
  "kernelspec": {
   "display_name": "Python [default]",
   "language": "python",
   "name": "python2"
  },
  "language_info": {
   "codemirror_mode": {
    "name": "ipython",
    "version": 2
   },
   "file_extension": ".py",
   "mimetype": "text/x-python",
   "name": "python",
   "nbconvert_exporter": "python",
   "pygments_lexer": "ipython2",
   "version": "2.7.12"
  }
 },
 "nbformat": 4,
 "nbformat_minor": 2
}
