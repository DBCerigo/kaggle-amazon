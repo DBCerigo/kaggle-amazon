{
 "cells": [
  {
   "cell_type": "code",
   "execution_count": 57,
   "metadata": {
    "collapsed": false
   },
   "outputs": [
    {
     "name": "stdout",
     "output_type": "stream",
     "text": [
      "The autoreload extension is already loaded. To reload it, use:\n",
      "  %reload_ext autoreload\n"
     ]
    }
   ],
   "source": [
    "%load_ext autoreload\n",
    "%autoreload 2\n",
    "%matplotlib inline"
   ]
  },
  {
   "cell_type": "code",
   "execution_count": 90,
   "metadata": {
    "collapsed": false
   },
   "outputs": [],
   "source": [
    "from keras.applications.vgg16 import VGG16\n",
    "from keras.models import Sequential\n",
    "from keras.layers.core import Dense, Flatten, Dropout\n",
    "from keras.layers.convolutional import Convolution2D, MaxPooling2D\n",
    "from keras.optimizers import Adam\n",
    "from sklearn.metrics import fbeta_score\n",
    "import numpy as np"
   ]
  },
  {
   "cell_type": "code",
   "execution_count": 59,
   "metadata": {
    "collapsed": true
   },
   "outputs": [],
   "source": [
    "import os\n",
    "import sys\n",
    "base_module_path = os.path.abspath(os.path.join('..'))\n",
    "if base_module_path not in sys.path:\n",
    "    sys.path.append(base_module_path)\n",
    "import ama as a\n",
    "TrainBatch = a.trainbatch.TrainBatch"
   ]
  },
  {
   "cell_type": "code",
   "execution_count": 60,
   "metadata": {
    "collapsed": false
   },
   "outputs": [],
   "source": [
    "vgg = VGG16(weights='imagenet', include_top=True)"
   ]
  },
  {
   "cell_type": "code",
   "execution_count": 61,
   "metadata": {
    "collapsed": false
   },
   "outputs": [],
   "source": [
    "last_conv_idx = [idx for idx, layer in enumerate(vgg.layers) if type(layer) is Convolution2D][-1]\n",
    "conv_layers = vgg.layers[:last_conv_idx+1]\n",
    "fc_layers = vgg.layers[last_conv_idx+1:]"
   ]
  },
  {
   "cell_type": "code",
   "execution_count": 62,
   "metadata": {
    "collapsed": false,
    "scrolled": true
   },
   "outputs": [],
   "source": [
    "conv_model = Sequential(conv_layers)"
   ]
  },
  {
   "cell_type": "code",
   "execution_count": 63,
   "metadata": {
    "collapsed": false
   },
   "outputs": [],
   "source": [
    "def get_fc_model():\n",
    "    model = Sequential([\n",
    "            MaxPooling2D(input_shape=conv_layers[-1].output_shape[1:]),\n",
    "            Flatten(),\n",
    "            Dense(4096, activation='relu'),\n",
    "            Dropout(0.5),\n",
    "            Dense(4096, activation='relu'),\n",
    "            Dropout(0.5),\n",
    "            Dense(17, activation='sigmoid')\n",
    "        ])\n",
    "    return model"
   ]
  },
  {
   "cell_type": "code",
   "execution_count": 64,
   "metadata": {
    "collapsed": false
   },
   "outputs": [],
   "source": [
    "fc_model = get_fc_model()"
   ]
  },
  {
   "cell_type": "code",
   "execution_count": 65,
   "metadata": {
    "collapsed": false
   },
   "outputs": [
    {
     "name": "stdout",
     "output_type": "stream",
     "text": [
      "Found 34479 images belonging to 1 classes.\n",
      "Found 6000 images belonging to 1 classes.\n"
     ]
    }
   ],
   "source": [
    "path = '../data/'\n",
    "batch_size = 128\n",
    "img_size = (224,224)\n",
    "\n",
    "traingen = TrainBatch(path+'train-jpg/', path+'train_v2.csv', batch_size=batch_size, img_size=img_size)\n",
    "valgen = TrainBatch(path+'val-jpg/', path+'train_v2.csv', batch_size=batch_size, img_size=img_size)\n",
    "\n",
    "train_labels = traingen.labels\n",
    "val_labels = valgen.labels"
   ]
  },
  {
   "cell_type": "code",
   "execution_count": 66,
   "metadata": {
    "collapsed": true
   },
   "outputs": [],
   "source": [
    "train_features = conv_model.predict_generator(traingen, traingen.nb_sample)\n",
    "val_features = conv_model.predict_generator(valgen, valgen.nb_sample)"
   ]
  },
  {
   "cell_type": "code",
   "execution_count": 67,
   "metadata": {
    "collapsed": false
   },
   "outputs": [
    {
     "name": "stdout",
     "output_type": "stream",
     "text": [
      "Train on 34479 samples, validate on 6000 samples\n",
      "Epoch 1/1\n",
      "34479/34479 [==============================] - 39s - loss: 0.3497 - acc: 0.8878 - val_loss: 0.2628 - val_acc: 0.9048\n"
     ]
    },
    {
     "data": {
      "text/plain": [
       "<keras.callbacks.History at 0x7fe52d7144d0>"
      ]
     },
     "execution_count": 67,
     "metadata": {},
     "output_type": "execute_result"
    }
   ],
   "source": [
    "fc_model = get_fc_model()\n",
    "fc_model.compile(optimizer=Adam(lr=0.0001), loss='binary_crossentropy', metrics=['accuracy'])\n",
    "fc_model.fit(train_features, train_labels, nb_epoch=1, batch_size=batch_size, \n",
    "             validation_data=(val_features, val_labels))"
   ]
  },
  {
   "cell_type": "code",
   "execution_count": 68,
   "metadata": {
    "collapsed": false
   },
   "outputs": [
    {
     "name": "stdout",
     "output_type": "stream",
     "text": [
      "Train on 34479 samples, validate on 6000 samples\n",
      "Epoch 1/5\n",
      "34479/34479 [==============================] - 39s - loss: 0.2701 - acc: 0.9015 - val_loss: 0.2650 - val_acc: 0.9045\n",
      "Epoch 2/5\n",
      "34479/34479 [==============================] - 41s - loss: 0.2607 - acc: 0.9043 - val_loss: 0.2621 - val_acc: 0.9046\n",
      "Epoch 3/5\n",
      "34479/34479 [==============================] - 42s - loss: 0.2515 - acc: 0.9073 - val_loss: 0.2680 - val_acc: 0.9030\n",
      "Epoch 4/5\n",
      "34479/34479 [==============================] - 42s - loss: 0.2411 - acc: 0.9103 - val_loss: 0.2702 - val_acc: 0.9030\n",
      "Epoch 5/5\n",
      "34479/34479 [==============================] - 42s - loss: 0.2293 - acc: 0.9144 - val_loss: 0.2731 - val_acc: 0.9032\n"
     ]
    },
    {
     "data": {
      "text/plain": [
       "<keras.callbacks.History at 0x7fe52d714c90>"
      ]
     },
     "execution_count": 68,
     "metadata": {},
     "output_type": "execute_result"
    }
   ],
   "source": [
    "fc_model.fit(train_features, train_labels, nb_epoch=5, batch_size=batch_size, \n",
    "             validation_data=(val_features, val_labels))"
   ]
  },
  {
   "cell_type": "code",
   "execution_count": 69,
   "metadata": {
    "collapsed": false
   },
   "outputs": [
    {
     "name": "stdout",
     "output_type": "stream",
     "text": [
      "Train on 34479 samples, validate on 6000 samples\n",
      "Epoch 1/10\n",
      "34479/34479 [==============================] - 42s - loss: 0.2181 - acc: 0.9185 - val_loss: 0.2761 - val_acc: 0.9037\n",
      "Epoch 2/10\n",
      "34479/34479 [==============================] - 42s - loss: 0.2068 - acc: 0.9230 - val_loss: 0.2840 - val_acc: 0.9032\n",
      "Epoch 3/10\n",
      "34479/34479 [==============================] - 42s - loss: 0.1967 - acc: 0.9262 - val_loss: 0.2880 - val_acc: 0.9027\n",
      "Epoch 4/10\n",
      "34479/34479 [==============================] - 42s - loss: 0.1878 - acc: 0.9297 - val_loss: 0.2964 - val_acc: 0.9028\n",
      "Epoch 5/10\n",
      "34479/34479 [==============================] - 42s - loss: 0.1791 - acc: 0.9328 - val_loss: 0.3022 - val_acc: 0.9022\n",
      "Epoch 6/10\n",
      "34479/34479 [==============================] - 42s - loss: 0.1718 - acc: 0.9356 - val_loss: 0.3099 - val_acc: 0.9009\n",
      "Epoch 7/10\n",
      "34479/34479 [==============================] - 42s - loss: 0.1650 - acc: 0.9379 - val_loss: 0.3203 - val_acc: 0.9006\n",
      "Epoch 8/10\n",
      "34479/34479 [==============================] - 42s - loss: 0.1595 - acc: 0.9401 - val_loss: 0.3266 - val_acc: 0.9010\n",
      "Epoch 9/10\n",
      "34479/34479 [==============================] - 42s - loss: 0.1546 - acc: 0.9418 - val_loss: 0.3397 - val_acc: 0.9014\n",
      "Epoch 10/10\n",
      "34479/34479 [==============================] - 42s - loss: 0.1495 - acc: 0.9436 - val_loss: 0.3431 - val_acc: 0.9008\n"
     ]
    },
    {
     "data": {
      "text/plain": [
       "<keras.callbacks.History at 0x7fe52d714650>"
      ]
     },
     "execution_count": 69,
     "metadata": {},
     "output_type": "execute_result"
    }
   ],
   "source": [
    "fc_model.fit(train_features, train_labels, nb_epoch=10, batch_size=batch_size, \n",
    "             validation_data=(val_features, val_labels))"
   ]
  },
  {
   "cell_type": "code",
   "execution_count": 70,
   "metadata": {
    "collapsed": false
   },
   "outputs": [
    {
     "name": "stdout",
     "output_type": "stream",
     "text": [
      "Train on 34479 samples, validate on 6000 samples\n",
      "Epoch 1/5\n",
      "34479/34479 [==============================] - 40s - loss: 0.1336 - acc: 0.9492 - val_loss: 0.3622 - val_acc: 0.9016\n",
      "Epoch 2/5\n",
      "34479/34479 [==============================] - 40s - loss: 0.1279 - acc: 0.9508 - val_loss: 0.3653 - val_acc: 0.9015\n",
      "Epoch 3/5\n",
      "34479/34479 [==============================] - 41s - loss: 0.1236 - acc: 0.9524 - val_loss: 0.3694 - val_acc: 0.9012\n",
      "Epoch 4/5\n",
      "34479/34479 [==============================] - 42s - loss: 0.1217 - acc: 0.9531 - val_loss: 0.3750 - val_acc: 0.9013\n",
      "Epoch 5/5\n",
      "34479/34479 [==============================] - 41s - loss: 0.1193 - acc: 0.9540 - val_loss: 0.3767 - val_acc: 0.9009\n"
     ]
    },
    {
     "data": {
      "text/plain": [
       "<keras.callbacks.History at 0x7fe54738d510>"
      ]
     },
     "execution_count": 70,
     "metadata": {},
     "output_type": "execute_result"
    }
   ],
   "source": [
    "fc_model.compile(optimizer=Adam(lr=0.00001), loss='binary_crossentropy', metrics=['accuracy'])\n",
    "fc_model.fit(train_features, train_labels, nb_epoch=5, batch_size=batch_size, \n",
    "             validation_data=(val_features, val_labels))"
   ]
  },
  {
   "cell_type": "code",
   "execution_count": 71,
   "metadata": {
    "collapsed": true
   },
   "outputs": [],
   "source": [
    "fc_model.save_weights('../data/weights/fc_vgg_1.hk')"
   ]
  },
  {
   "cell_type": "code",
   "execution_count": 72,
   "metadata": {
    "collapsed": false
   },
   "outputs": [
    {
     "name": "stdout",
     "output_type": "stream",
     "text": [
      "Train on 34479 samples, validate on 6000 samples\n",
      "Epoch 1/1\n",
      "34479/34479 [==============================] - 40s - loss: 0.5593 - acc: 0.8984 - val_loss: 0.2667 - val_acc: 0.9050\n"
     ]
    },
    {
     "data": {
      "text/plain": [
       "<keras.callbacks.History at 0x7fe52d7c3990>"
      ]
     },
     "execution_count": 72,
     "metadata": {},
     "output_type": "execute_result"
    }
   ],
   "source": [
    "fc_model.compile(optimizer=Adam(lr=0.001), loss='binary_crossentropy', metrics=['accuracy'])\n",
    "fc_model.fit(train_features, train_labels, nb_epoch=1, batch_size=batch_size, \n",
    "             validation_data=(val_features, val_labels))"
   ]
  },
  {
   "cell_type": "code",
   "execution_count": 73,
   "metadata": {
    "collapsed": false
   },
   "outputs": [
    {
     "name": "stdout",
     "output_type": "stream",
     "text": [
      "Train on 34479 samples, validate on 6000 samples\n",
      "Epoch 1/5\n",
      "34479/34479 [==============================] - 40s - loss: 0.2707 - acc: 0.9038 - val_loss: 0.2707 - val_acc: 0.9049\n",
      "Epoch 2/5\n",
      "34479/34479 [==============================] - 42s - loss: 0.2686 - acc: 0.9043 - val_loss: 0.2674 - val_acc: 0.9050\n",
      "Epoch 3/5\n",
      "34479/34479 [==============================] - 42s - loss: 0.2653 - acc: 0.9046 - val_loss: 0.2751 - val_acc: 0.9050\n",
      "Epoch 4/5\n",
      "34479/34479 [==============================] - 42s - loss: 0.2631 - acc: 0.9049 - val_loss: 0.2717 - val_acc: 0.9050\n",
      "Epoch 5/5\n",
      "34479/34479 [==============================] - 42s - loss: 0.2618 - acc: 0.9050 - val_loss: 0.2736 - val_acc: 0.9050\n"
     ]
    },
    {
     "data": {
      "text/plain": [
       "<keras.callbacks.History at 0x7fe52d7c31d0>"
      ]
     },
     "execution_count": 73,
     "metadata": {},
     "output_type": "execute_result"
    }
   ],
   "source": [
    "fc_model.fit(train_features, train_labels, nb_epoch=5, batch_size=batch_size, \n",
    "             validation_data=(val_features, val_labels))"
   ]
  },
  {
   "cell_type": "code",
   "execution_count": 81,
   "metadata": {
    "collapsed": true
   },
   "outputs": [],
   "source": [
    "fc_model.load_weights('../data/weights/fc_vgg_1.hk')"
   ]
  },
  {
   "cell_type": "code",
   "execution_count": 86,
   "metadata": {
    "collapsed": false
   },
   "outputs": [],
   "source": [
    "val_predictions = fc_model.predict(val_features, batch_size=batch_size)"
   ]
  },
  {
   "cell_type": "code",
   "execution_count": 87,
   "metadata": {
    "collapsed": false
   },
   "outputs": [
    {
     "data": {
      "text/plain": [
       "array([  1.11175666e-03,   1.56974849e-07,   2.67184691e-06,\n",
       "         7.67926213e-06,   3.08051625e-07,   7.11987843e-04,\n",
       "         5.44774055e-04,   4.10613836e-07,   2.18340909e-04,\n",
       "         6.16230091e-06,   1.65440888e-05,   9.99888897e-01,\n",
       "         9.99589741e-01,   8.16660700e-04,   1.08350905e-05,\n",
       "         2.44193984e-07,   5.00072201e-04], dtype=float32)"
      ]
     },
     "execution_count": 87,
     "metadata": {},
     "output_type": "execute_result"
    }
   ],
   "source": [
    "predictions[10]"
   ]
  },
  {
   "cell_type": "code",
   "execution_count": 114,
   "metadata": {
    "collapsed": false
   },
   "outputs": [
    {
     "data": {
      "text/plain": [
       "array([[1, 0, 1, ..., 0, 0, 0],\n",
       "       [1, 0, 0, ..., 0, 0, 0],\n",
       "       [0, 0, 1, ..., 0, 0, 0],\n",
       "       ..., \n",
       "       [0, 0, 0, ..., 0, 0, 0],\n",
       "       [0, 0, 0, ..., 0, 0, 0],\n",
       "       [0, 0, 0, ..., 0, 0, 0]], dtype=uint8)"
      ]
     },
     "execution_count": 114,
     "metadata": {},
     "output_type": "execute_result"
    }
   ],
   "source": [
    "val_labs2=np.array(val_labels, dtype=np.uint8)\n",
    "val_labs2"
   ]
  },
  {
   "cell_type": "code",
   "execution_count": 124,
   "metadata": {
    "collapsed": false
   },
   "outputs": [
    {
     "data": {
      "text/plain": [
       "array([1, 0, 1, 0, 0, 1, 0, 0, 1, 0, 0, 0, 1, 1, 0, 0, 0], dtype=uint8)"
      ]
     },
     "execution_count": 124,
     "metadata": {},
     "output_type": "execute_result"
    }
   ],
   "source": [
    "val_labs2[0]"
   ]
  },
  {
   "cell_type": "code",
   "execution_count": 122,
   "metadata": {
    "collapsed": false
   },
   "outputs": [
    {
     "data": {
      "text/plain": [
       "array([0, 0, 0, 0, 0, 1, 0, 0, 0, 0, 0, 0, 1, 0, 0, 0, 0], dtype=uint8)"
      ]
     },
     "execution_count": 122,
     "metadata": {},
     "output_type": "execute_result"
    }
   ],
   "source": [
    "val_preds2=np.array(val_predictions>0.2,dtype=np.uint8)\n",
    "val_preds2[0]"
   ]
  },
  {
   "cell_type": "code",
   "execution_count": 92,
   "metadata": {
    "collapsed": true
   },
   "outputs": [],
   "source": [
    "??fbeta_score"
   ]
  },
  {
   "cell_type": "code",
   "execution_count": 120,
   "metadata": {
    "collapsed": false
   },
   "outputs": [
    {
     "ename": "ValueError",
     "evalue": "Can't handle mix of multiclass-multioutput and multilabel-indicator",
     "output_type": "error",
     "traceback": [
      "\u001b[0;31m---------------------------------------------------------------------------\u001b[0m",
      "\u001b[0;31mValueError\u001b[0m                                Traceback (most recent call last)",
      "\u001b[0;32m<ipython-input-120-d3e25041cb16>\u001b[0m in \u001b[0;36m<module>\u001b[0;34m()\u001b[0m\n\u001b[0;32m----> 1\u001b[0;31m \u001b[0mfbeta_score\u001b[0m\u001b[0;34m(\u001b[0m\u001b[0mval_labs2\u001b[0m\u001b[0;34m,\u001b[0m \u001b[0mval_preds2\u001b[0m\u001b[0;34m,\u001b[0m \u001b[0mbeta\u001b[0m\u001b[0;34m=\u001b[0m\u001b[0;36m2\u001b[0m\u001b[0;34m,\u001b[0m \u001b[0maverage\u001b[0m\u001b[0;34m=\u001b[0m\u001b[0;34m'samples'\u001b[0m\u001b[0;34m)\u001b[0m\u001b[0;34m\u001b[0m\u001b[0m\n\u001b[0m",
      "\u001b[0;32m/home/ubuntu/anaconda2/lib/python2.7/site-packages/sklearn/metrics/classification.pyc\u001b[0m in \u001b[0;36mfbeta_score\u001b[0;34m(y_true, y_pred, beta, labels, pos_label, average, sample_weight)\u001b[0m\n\u001b[1;32m    754\u001b[0m                                                  \u001b[0maverage\u001b[0m\u001b[0;34m=\u001b[0m\u001b[0maverage\u001b[0m\u001b[0;34m,\u001b[0m\u001b[0;34m\u001b[0m\u001b[0m\n\u001b[1;32m    755\u001b[0m                                                  \u001b[0mwarn_for\u001b[0m\u001b[0;34m=\u001b[0m\u001b[0;34m(\u001b[0m\u001b[0;34m'f-score'\u001b[0m\u001b[0;34m,\u001b[0m\u001b[0;34m)\u001b[0m\u001b[0;34m,\u001b[0m\u001b[0;34m\u001b[0m\u001b[0m\n\u001b[0;32m--> 756\u001b[0;31m                                                  sample_weight=sample_weight)\n\u001b[0m\u001b[1;32m    757\u001b[0m     \u001b[0;32mreturn\u001b[0m \u001b[0mf\u001b[0m\u001b[0;34m\u001b[0m\u001b[0m\n\u001b[1;32m    758\u001b[0m \u001b[0;34m\u001b[0m\u001b[0m\n",
      "\u001b[0;32m/home/ubuntu/anaconda2/lib/python2.7/site-packages/sklearn/metrics/classification.pyc\u001b[0m in \u001b[0;36mprecision_recall_fscore_support\u001b[0;34m(y_true, y_pred, beta, labels, pos_label, average, warn_for, sample_weight)\u001b[0m\n\u001b[1;32m    954\u001b[0m         \u001b[0;32mraise\u001b[0m \u001b[0mValueError\u001b[0m\u001b[0;34m(\u001b[0m\u001b[0;34m\"beta should be >0 in the F-beta score\"\u001b[0m\u001b[0;34m)\u001b[0m\u001b[0;34m\u001b[0m\u001b[0m\n\u001b[1;32m    955\u001b[0m \u001b[0;34m\u001b[0m\u001b[0m\n\u001b[0;32m--> 956\u001b[0;31m     \u001b[0my_type\u001b[0m\u001b[0;34m,\u001b[0m \u001b[0my_true\u001b[0m\u001b[0;34m,\u001b[0m \u001b[0my_pred\u001b[0m \u001b[0;34m=\u001b[0m \u001b[0m_check_targets\u001b[0m\u001b[0;34m(\u001b[0m\u001b[0my_true\u001b[0m\u001b[0;34m,\u001b[0m \u001b[0my_pred\u001b[0m\u001b[0;34m)\u001b[0m\u001b[0;34m\u001b[0m\u001b[0m\n\u001b[0m\u001b[1;32m    957\u001b[0m     \u001b[0mpresent_labels\u001b[0m \u001b[0;34m=\u001b[0m \u001b[0munique_labels\u001b[0m\u001b[0;34m(\u001b[0m\u001b[0my_true\u001b[0m\u001b[0;34m,\u001b[0m \u001b[0my_pred\u001b[0m\u001b[0;34m)\u001b[0m\u001b[0;34m\u001b[0m\u001b[0m\n\u001b[1;32m    958\u001b[0m \u001b[0;34m\u001b[0m\u001b[0m\n",
      "\u001b[0;32m/home/ubuntu/anaconda2/lib/python2.7/site-packages/sklearn/metrics/classification.pyc\u001b[0m in \u001b[0;36m_check_targets\u001b[0;34m(y_true, y_pred)\u001b[0m\n\u001b[1;32m     80\u001b[0m     \u001b[0;32mif\u001b[0m \u001b[0mlen\u001b[0m\u001b[0;34m(\u001b[0m\u001b[0my_type\u001b[0m\u001b[0;34m)\u001b[0m \u001b[0;34m>\u001b[0m \u001b[0;36m1\u001b[0m\u001b[0;34m:\u001b[0m\u001b[0;34m\u001b[0m\u001b[0m\n\u001b[1;32m     81\u001b[0m         raise ValueError(\"Can't handle mix of {0} and {1}\"\n\u001b[0;32m---> 82\u001b[0;31m                          \"\".format(type_true, type_pred))\n\u001b[0m\u001b[1;32m     83\u001b[0m \u001b[0;34m\u001b[0m\u001b[0m\n\u001b[1;32m     84\u001b[0m     \u001b[0;31m# We can't have more than one value on y_type => The set is no more needed\u001b[0m\u001b[0;34m\u001b[0m\u001b[0;34m\u001b[0m\u001b[0m\n",
      "\u001b[0;31mValueError\u001b[0m: Can't handle mix of multiclass-multioutput and multilabel-indicator"
     ]
    }
   ],
   "source": [
    "fbeta_score(val_labs2, val_preds2, beta=2, average='samples')"
   ]
  },
  {
   "cell_type": "code",
   "execution_count": null,
   "metadata": {
    "collapsed": true
   },
   "outputs": [],
   "source": []
  }
 ],
 "metadata": {
  "anaconda-cloud": {},
  "kernelspec": {
   "display_name": "Python [default]",
   "language": "python",
   "name": "python2"
  },
  "language_info": {
   "codemirror_mode": {
    "name": "ipython",
    "version": 2
   },
   "file_extension": ".py",
   "mimetype": "text/x-python",
   "name": "python",
   "nbconvert_exporter": "python",
   "pygments_lexer": "ipython2",
   "version": "2.7.12"
  }
 },
 "nbformat": 4,
 "nbformat_minor": 1
}
