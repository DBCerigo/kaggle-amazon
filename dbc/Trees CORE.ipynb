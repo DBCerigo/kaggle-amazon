{
 "cells": [
  {
   "cell_type": "code",
   "execution_count": 1,
   "metadata": {},
   "outputs": [],
   "source": [
    "%load_ext autoreload\n",
    "%autoreload 2\n",
    "%matplotlib inline"
   ]
  },
  {
   "cell_type": "code",
   "execution_count": 41,
   "metadata": {
    "collapsed": true
   },
   "outputs": [],
   "source": [
    "from __future__ import print_function, division"
   ]
  },
  {
   "cell_type": "code",
   "execution_count": 3,
   "metadata": {},
   "outputs": [
    {
     "name": "stderr",
     "output_type": "stream",
     "text": [
      "Using Theano backend.\n",
      "Using gpu device 0: Tesla K80 (CNMeM is disabled, cuDNN 5103)\n",
      "/home/ubuntu/anaconda2/lib/python2.7/site-packages/theano/sandbox/cuda/__init__.py:600: UserWarning: Your cuDNN version is more recent than the one Theano officially supports. If you see any problems, try updating Theano or downgrading cuDNN to version 5.\n",
      "  warnings.warn(warn)\n"
     ]
    }
   ],
   "source": [
    "import os.path\n",
    "import numpy as np\n",
    "import pandas as pd\n",
    "import matplotlib.pyplot as plt\n",
    "from keras.optimizers import Adam"
   ]
  },
  {
   "cell_type": "code",
   "execution_count": 6,
   "metadata": {},
   "outputs": [],
   "source": [
    "import os\n",
    "import sys\n",
    "base_module_path = os.path.abspath(os.path.join('..'))\n",
    "if base_module_path not in sys.path:\n",
    "    sys.path.append(base_module_path)\n",
    "import ama as a"
   ]
  },
  {
   "cell_type": "code",
   "execution_count": 7,
   "metadata": {
    "collapsed": true
   },
   "outputs": [],
   "source": [
    "BASE_PATH = '../data/'"
   ]
  },
  {
   "cell_type": "code",
   "execution_count": 8,
   "metadata": {},
   "outputs": [
    {
     "name": "stdout",
     "output_type": "stream",
     "text": [
      "40479\n"
     ]
    },
    {
     "data": {
      "text/html": [
       "<div>\n",
       "<table border=\"1\" class=\"dataframe\">\n",
       "  <thead>\n",
       "    <tr style=\"text-align: right;\">\n",
       "      <th></th>\n",
       "      <th>image_name</th>\n",
       "      <th>tags</th>\n",
       "    </tr>\n",
       "  </thead>\n",
       "  <tbody>\n",
       "    <tr>\n",
       "      <th>0</th>\n",
       "      <td>train_0</td>\n",
       "      <td>haze primary</td>\n",
       "    </tr>\n",
       "    <tr>\n",
       "      <th>1</th>\n",
       "      <td>train_1</td>\n",
       "      <td>agriculture clear primary water</td>\n",
       "    </tr>\n",
       "    <tr>\n",
       "      <th>2</th>\n",
       "      <td>train_2</td>\n",
       "      <td>clear primary</td>\n",
       "    </tr>\n",
       "    <tr>\n",
       "      <th>3</th>\n",
       "      <td>train_3</td>\n",
       "      <td>clear primary</td>\n",
       "    </tr>\n",
       "    <tr>\n",
       "      <th>4</th>\n",
       "      <td>train_4</td>\n",
       "      <td>agriculture clear habitation primary road</td>\n",
       "    </tr>\n",
       "  </tbody>\n",
       "</table>\n",
       "</div>"
      ],
      "text/plain": [
       "  image_name                                       tags\n",
       "0    train_0                               haze primary\n",
       "1    train_1            agriculture clear primary water\n",
       "2    train_2                              clear primary\n",
       "3    train_3                              clear primary\n",
       "4    train_4  agriculture clear habitation primary road"
      ]
     },
     "execution_count": 8,
     "metadata": {},
     "output_type": "execute_result"
    }
   ],
   "source": [
    "df = pd.read_csv(BASE_PATH + 'train_v2.csv'); print(len(df)); df.head()"
   ]
  },
  {
   "cell_type": "code",
   "execution_count": 9,
   "metadata": {},
   "outputs": [
    {
     "data": {
      "text/html": [
       "<div>\n",
       "<table border=\"1\" class=\"dataframe\">\n",
       "  <thead>\n",
       "    <tr style=\"text-align: right;\">\n",
       "      <th></th>\n",
       "      <th>image_name</th>\n",
       "      <th>tags</th>\n",
       "      <th>path</th>\n",
       "    </tr>\n",
       "  </thead>\n",
       "  <tbody>\n",
       "    <tr>\n",
       "      <th>0</th>\n",
       "      <td>train_0</td>\n",
       "      <td>haze primary</td>\n",
       "      <td>../data/train-full-jpg/train_0.jpg</td>\n",
       "    </tr>\n",
       "    <tr>\n",
       "      <th>1</th>\n",
       "      <td>train_1</td>\n",
       "      <td>agriculture clear primary water</td>\n",
       "      <td>../data/train-full-jpg/train_1.jpg</td>\n",
       "    </tr>\n",
       "    <tr>\n",
       "      <th>2</th>\n",
       "      <td>train_2</td>\n",
       "      <td>clear primary</td>\n",
       "      <td>../data/train-full-jpg/train_2.jpg</td>\n",
       "    </tr>\n",
       "    <tr>\n",
       "      <th>3</th>\n",
       "      <td>train_3</td>\n",
       "      <td>clear primary</td>\n",
       "      <td>../data/train-full-jpg/train_3.jpg</td>\n",
       "    </tr>\n",
       "    <tr>\n",
       "      <th>4</th>\n",
       "      <td>train_4</td>\n",
       "      <td>agriculture clear habitation primary road</td>\n",
       "      <td>../data/train-full-jpg/train_4.jpg</td>\n",
       "    </tr>\n",
       "  </tbody>\n",
       "</table>\n",
       "</div>"
      ],
      "text/plain": [
       "  image_name                                       tags  \\\n",
       "0    train_0                               haze primary   \n",
       "1    train_1            agriculture clear primary water   \n",
       "2    train_2                              clear primary   \n",
       "3    train_3                              clear primary   \n",
       "4    train_4  agriculture clear habitation primary road   \n",
       "\n",
       "                                 path  \n",
       "0  ../data/train-full-jpg/train_0.jpg  \n",
       "1  ../data/train-full-jpg/train_1.jpg  \n",
       "2  ../data/train-full-jpg/train_2.jpg  \n",
       "3  ../data/train-full-jpg/train_3.jpg  \n",
       "4  ../data/train-full-jpg/train_4.jpg  "
      ]
     },
     "execution_count": 9,
     "metadata": {},
     "output_type": "execute_result"
    }
   ],
   "source": [
    "df['path'] = df['image_name'].map(lambda x: BASE_PATH + 'train-full-jpg/' + x + '.jpg'); df.head()"
   ]
  },
  {
   "cell_type": "code",
   "execution_count": 10,
   "metadata": {},
   "outputs": [
    {
     "data": {
      "text/plain": [
       "['haze',\n",
       " 'primary',\n",
       " 'agriculture',\n",
       " 'clear',\n",
       " 'water',\n",
       " 'habitation',\n",
       " 'road',\n",
       " 'cultivation',\n",
       " 'slash_burn',\n",
       " 'cloudy',\n",
       " 'partly_cloudy',\n",
       " 'conventional_mine',\n",
       " 'bare_ground',\n",
       " 'artisinal_mine',\n",
       " 'blooming',\n",
       " 'selective_logging',\n",
       " 'blow_down']"
      ]
     },
     "execution_count": 10,
     "metadata": {},
     "output_type": "execute_result"
    }
   ],
   "source": [
    "# Build list with unique labels\n",
    "label_list = []\n",
    "for tag_str in df.tags.values:\n",
    "    labels = tag_str.split(' ')\n",
    "    for label in labels:\n",
    "        if label not in label_list:\n",
    "            label_list.append(label)\n",
    "label_list      "
   ]
  },
  {
   "cell_type": "code",
   "execution_count": 11,
   "metadata": {},
   "outputs": [
    {
     "data": {
      "text/html": [
       "<div>\n",
       "<table border=\"1\" class=\"dataframe\">\n",
       "  <thead>\n",
       "    <tr style=\"text-align: right;\">\n",
       "      <th></th>\n",
       "      <th>image_name</th>\n",
       "      <th>tags</th>\n",
       "      <th>path</th>\n",
       "      <th>haze</th>\n",
       "      <th>primary</th>\n",
       "      <th>agriculture</th>\n",
       "      <th>clear</th>\n",
       "      <th>water</th>\n",
       "      <th>habitation</th>\n",
       "      <th>road</th>\n",
       "      <th>cultivation</th>\n",
       "      <th>slash_burn</th>\n",
       "      <th>cloudy</th>\n",
       "      <th>partly_cloudy</th>\n",
       "      <th>conventional_mine</th>\n",
       "      <th>bare_ground</th>\n",
       "      <th>artisinal_mine</th>\n",
       "      <th>blooming</th>\n",
       "      <th>selective_logging</th>\n",
       "      <th>blow_down</th>\n",
       "    </tr>\n",
       "  </thead>\n",
       "  <tbody>\n",
       "    <tr>\n",
       "      <th>0</th>\n",
       "      <td>train_0</td>\n",
       "      <td>haze primary</td>\n",
       "      <td>../data/train-full-jpg/train_0.jpg</td>\n",
       "      <td>1</td>\n",
       "      <td>1</td>\n",
       "      <td>0</td>\n",
       "      <td>0</td>\n",
       "      <td>0</td>\n",
       "      <td>0</td>\n",
       "      <td>0</td>\n",
       "      <td>0</td>\n",
       "      <td>0</td>\n",
       "      <td>0</td>\n",
       "      <td>0</td>\n",
       "      <td>0</td>\n",
       "      <td>0</td>\n",
       "      <td>0</td>\n",
       "      <td>0</td>\n",
       "      <td>0</td>\n",
       "      <td>0</td>\n",
       "    </tr>\n",
       "    <tr>\n",
       "      <th>1</th>\n",
       "      <td>train_1</td>\n",
       "      <td>agriculture clear primary water</td>\n",
       "      <td>../data/train-full-jpg/train_1.jpg</td>\n",
       "      <td>0</td>\n",
       "      <td>1</td>\n",
       "      <td>1</td>\n",
       "      <td>1</td>\n",
       "      <td>1</td>\n",
       "      <td>0</td>\n",
       "      <td>0</td>\n",
       "      <td>0</td>\n",
       "      <td>0</td>\n",
       "      <td>0</td>\n",
       "      <td>0</td>\n",
       "      <td>0</td>\n",
       "      <td>0</td>\n",
       "      <td>0</td>\n",
       "      <td>0</td>\n",
       "      <td>0</td>\n",
       "      <td>0</td>\n",
       "    </tr>\n",
       "    <tr>\n",
       "      <th>2</th>\n",
       "      <td>train_2</td>\n",
       "      <td>clear primary</td>\n",
       "      <td>../data/train-full-jpg/train_2.jpg</td>\n",
       "      <td>0</td>\n",
       "      <td>1</td>\n",
       "      <td>0</td>\n",
       "      <td>1</td>\n",
       "      <td>0</td>\n",
       "      <td>0</td>\n",
       "      <td>0</td>\n",
       "      <td>0</td>\n",
       "      <td>0</td>\n",
       "      <td>0</td>\n",
       "      <td>0</td>\n",
       "      <td>0</td>\n",
       "      <td>0</td>\n",
       "      <td>0</td>\n",
       "      <td>0</td>\n",
       "      <td>0</td>\n",
       "      <td>0</td>\n",
       "    </tr>\n",
       "    <tr>\n",
       "      <th>3</th>\n",
       "      <td>train_3</td>\n",
       "      <td>clear primary</td>\n",
       "      <td>../data/train-full-jpg/train_3.jpg</td>\n",
       "      <td>0</td>\n",
       "      <td>1</td>\n",
       "      <td>0</td>\n",
       "      <td>1</td>\n",
       "      <td>0</td>\n",
       "      <td>0</td>\n",
       "      <td>0</td>\n",
       "      <td>0</td>\n",
       "      <td>0</td>\n",
       "      <td>0</td>\n",
       "      <td>0</td>\n",
       "      <td>0</td>\n",
       "      <td>0</td>\n",
       "      <td>0</td>\n",
       "      <td>0</td>\n",
       "      <td>0</td>\n",
       "      <td>0</td>\n",
       "    </tr>\n",
       "    <tr>\n",
       "      <th>4</th>\n",
       "      <td>train_4</td>\n",
       "      <td>agriculture clear habitation primary road</td>\n",
       "      <td>../data/train-full-jpg/train_4.jpg</td>\n",
       "      <td>0</td>\n",
       "      <td>1</td>\n",
       "      <td>1</td>\n",
       "      <td>1</td>\n",
       "      <td>0</td>\n",
       "      <td>1</td>\n",
       "      <td>1</td>\n",
       "      <td>0</td>\n",
       "      <td>0</td>\n",
       "      <td>0</td>\n",
       "      <td>0</td>\n",
       "      <td>0</td>\n",
       "      <td>0</td>\n",
       "      <td>0</td>\n",
       "      <td>0</td>\n",
       "      <td>0</td>\n",
       "      <td>0</td>\n",
       "    </tr>\n",
       "  </tbody>\n",
       "</table>\n",
       "</div>"
      ],
      "text/plain": [
       "  image_name                                       tags  \\\n",
       "0    train_0                               haze primary   \n",
       "1    train_1            agriculture clear primary water   \n",
       "2    train_2                              clear primary   \n",
       "3    train_3                              clear primary   \n",
       "4    train_4  agriculture clear habitation primary road   \n",
       "\n",
       "                                 path  haze  primary  agriculture  clear  \\\n",
       "0  ../data/train-full-jpg/train_0.jpg     1        1            0      0   \n",
       "1  ../data/train-full-jpg/train_1.jpg     0        1            1      1   \n",
       "2  ../data/train-full-jpg/train_2.jpg     0        1            0      1   \n",
       "3  ../data/train-full-jpg/train_3.jpg     0        1            0      1   \n",
       "4  ../data/train-full-jpg/train_4.jpg     0        1            1      1   \n",
       "\n",
       "   water  habitation  road  cultivation  slash_burn  cloudy  partly_cloudy  \\\n",
       "0      0           0     0            0           0       0              0   \n",
       "1      1           0     0            0           0       0              0   \n",
       "2      0           0     0            0           0       0              0   \n",
       "3      0           0     0            0           0       0              0   \n",
       "4      0           1     1            0           0       0              0   \n",
       "\n",
       "   conventional_mine  bare_ground  artisinal_mine  blooming  \\\n",
       "0                  0            0               0         0   \n",
       "1                  0            0               0         0   \n",
       "2                  0            0               0         0   \n",
       "3                  0            0               0         0   \n",
       "4                  0            0               0         0   \n",
       "\n",
       "   selective_logging  blow_down  \n",
       "0                  0          0  \n",
       "1                  0          0  \n",
       "2                  0          0  \n",
       "3                  0          0  \n",
       "4                  0          0  "
      ]
     },
     "execution_count": 11,
     "metadata": {},
     "output_type": "execute_result"
    }
   ],
   "source": [
    "# Add onehot features for every label\n",
    "for label in label_list:\n",
    "    df[label] = df['tags'].apply(lambda x: 1 if label in x.split(' ') else 0)\n",
    "df.head()"
   ]
  },
  {
   "cell_type": "code",
   "execution_count": 12,
   "metadata": {
    "collapsed": true
   },
   "outputs": [],
   "source": [
    "def check_image(path):\n",
    "    print(path)\n",
    "    img = plt.imread(path)\n",
    "    print(img.shape)\n",
    "    plt.imshow(img)"
   ]
  },
  {
   "cell_type": "code",
   "execution_count": 13,
   "metadata": {},
   "outputs": [
    {
     "name": "stdout",
     "output_type": "stream",
     "text": [
      "../data/train-full-jpg/train_0.jpg\n",
      "(256, 256, 4)\n"
     ]
    },
    {
     "data": {
      "image/png": "[encoded data removed]",
      "text/plain": [
       "<matplotlib.figure.Figure at 0x7f5ba5fc3910>"
      ]
     },
     "metadata": {},
     "output_type": "display_data"
    }
   ],
   "source": [
    "check_image(df.path[0])"
   ]
  },
  {
   "cell_type": "code",
   "execution_count": 14,
   "metadata": {},
   "outputs": [],
   "source": [
    "### COMPUTE FEATURES ###\n",
    "from PIL import Image, ImageStat\n",
    "import scipy\n",
    "import cv2\n",
    "\n",
    "def get_features(path):\n",
    "    st = []\n",
    "    img = Image.open(path)\n",
    "    im_stats_ = ImageStat.Stat(img)\n",
    "    st += im_stats_.sum\n",
    "    st += im_stats_.mean\n",
    "    st += im_stats_.rms\n",
    "    st += im_stats_.var\n",
    "    st += im_stats_.stddev\n",
    "    img = np.array(img)[:,:,:3]\n",
    "    st += [scipy.stats.kurtosis(img[:,:,0].ravel())]\n",
    "    st += [scipy.stats.kurtosis(img[:,:,1].ravel())]\n",
    "    st += [scipy.stats.kurtosis(img[:,:,2].ravel())]\n",
    "    st += [scipy.stats.skew(img[:,:,0].ravel())]\n",
    "    st += [scipy.stats.skew(img[:,:,1].ravel())]\n",
    "    st += [scipy.stats.skew(img[:,:,2].ravel())]\n",
    "    #cv2 jpg\n",
    "    img = cv2.imread(path)\n",
    "    bw = cv2.imread(path,0)\n",
    "    #st += list(cv2.calcHist([bw],[0],None,[256],[0,256]).flatten()) #bw \n",
    "    #st += list(cv2.calcHist([img],[0],None,[256],[0,256]).flatten()) #r\n",
    "    #st += list(cv2.calcHist([img],[1],None,[256],[0,256]).flatten()) #g\n",
    "    #st += list(cv2.calcHist([img],[2],None,[256],[0,256]).flatten()) #b\n",
    "    m, s = cv2.meanStdDev(img) #mean and standard deviation\n",
    "    st += list(list(m))\n",
    "    st += list(s)\n",
    "    st += [cv2.Laplacian(bw, cv2.CV_64F).var()] \n",
    "    st += [cv2.Laplacian(img, cv2.CV_64F).var()]\n",
    "    st += [cv2.Sobel(bw,cv2.CV_64F,1,0,ksize=5).var()]\n",
    "    st += [cv2.Sobel(bw,cv2.CV_64F,0,1,ksize=5).var()]\n",
    "    st += [cv2.Sobel(img,cv2.CV_64F,1,0,ksize=5).var()]\n",
    "    st += [cv2.Sobel(img,cv2.CV_64F,0,1,ksize=5).var()]\n",
    "    st += [(bw<30).sum()]\n",
    "    st += [(bw>225).sum()]\n",
    "    return [path, st]"
   ]
  },
  {
   "cell_type": "code",
   "execution_count": 15,
   "metadata": {
    "collapsed": true
   },
   "outputs": [],
   "source": [
    "from multiprocessing import Pool, cpu_count\n",
    "def normalize_img(paths):\n",
    "    imf_d = {}\n",
    "    p = Pool(cpu_count())\n",
    "    ret = p.map(get_features, paths)\n",
    "    for i in range(len(ret)):\n",
    "        imf_d[ret[i][0]] = ret[i][1]\n",
    "    ret = []\n",
    "    fdata = [imf_d[f] for f in paths]\n",
    "    return fdata"
   ]
  },
  {
   "cell_type": "code",
   "execution_count": 16,
   "metadata": {
    "collapsed": true
   },
   "outputs": [],
   "source": [
    "import cPickle as pickle"
   ]
  },
  {
   "cell_type": "code",
   "execution_count": 21,
   "metadata": {},
   "outputs": [],
   "source": [
    "try:\n",
    "    x = pickle.load( open(BASE_PATH+ 'features1.pkl', 'rb'))\n",
    "except:\n",
    "    x = normalize_img(df['path']); print('train...')"
   ]
  },
  {
   "cell_type": "code",
   "execution_count": 73,
   "metadata": {},
   "outputs": [
    {
     "name": "stdout",
     "output_type": "stream",
     "text": [
      "2089\n",
      "0.0516070061019\n",
      "40479\n",
      "0.0516070061019\n"
     ]
    }
   ],
   "source": [
    "y = df.cloudy\n",
    "y_mean = y.mean()\n",
    "print(y.sum())\n",
    "print(y.mean())\n",
    "print(len(y))\n",
    "print(y.sum()/len(y))"
   ]
  },
  {
   "cell_type": "code",
   "execution_count": 24,
   "metadata": {
    "scrolled": true
   },
   "outputs": [
    {
     "data": {
      "text/plain": [
       "[[10696302.0,\n",
       "  9545515.0,\n",
       "  9921551.0,\n",
       "  0.0,\n",
       "  163.21261596679688,\n",
       "  145.6529998779297,\n",
       "  151.39085388183594,\n",
       "  0.0,\n",
       "  163.26825755725224,\n",
       "  145.68545998184607,\n",
       "  151.41297981729744,\n",
       "  0.0,\n",
       "  18.16591505613178,\n",
       "  9.45687668188475,\n",
       "  6.6998180819209665,\n",
       "  0.0,\n",
       "  4.262149112376499,\n",
       "  3.075203518774774,\n",
       "  2.588400680327713,\n",
       "  0.0,\n",
       "  0.8929402158608482,\n",
       "  0.4680807390767989,\n",
       "  0.5847271087490951,\n",
       "  -0.34917909033787253,\n",
       "  -0.18576165077577272,\n",
       "  -0.14346481424706475,\n",
       "  array([ 104.60914612]),\n",
       "  array([ 110.34700012]),\n",
       "  array([ 92.78738403]),\n",
       "  array([ 2.58840068]),\n",
       "  array([ 3.07520352]),\n",
       "  array([ 4.26214911]),\n",
       "  13.106413899920881,\n",
       "  17.92967671393934,\n",
       "  19182.654784179293,\n",
       "  12377.976394161582,\n",
       "  22976.314172718252,\n",
       "  15519.153751750375,\n",
       "  0,\n",
       "  0]]"
      ]
     },
     "execution_count": 24,
     "metadata": {},
     "output_type": "execute_result"
    }
   ],
   "source": [
    "x[:1]"
   ]
  },
  {
   "cell_type": "code",
   "execution_count": 22,
   "metadata": {
    "collapsed": true
   },
   "outputs": [],
   "source": [
    "with open(BASE_PATH + 'features1.pkl', 'wb') as output:\n",
    "    #pickle.dump(x, output)"
   ]
  },
  {
   "cell_type": "code",
   "execution_count": 26,
   "metadata": {
    "scrolled": true
   },
   "outputs": [
    {
     "data": {
      "text/plain": [
       "(40479,)"
      ]
     },
     "execution_count": 26,
     "metadata": {},
     "output_type": "execute_result"
    }
   ],
   "source": [
    "import xgboost as xgb\n",
    "### TRAIN XGBOOST ###\n",
    "dtrain = xgb.DMatrix(x, y)"
   ]
  },
  {
   "cell_type": "markdown",
   "metadata": {},
   "source": [
    "#### Versions, changes, results\n",
    "1. 'objective' : 'binary:logistic', 'eval_metric':'error@0.9', 'eta':1\n",
    "    * Initial set up\n",
    "    * Unsure about best objective or even eval metric\n",
    "    * Result: step156, test0.022409, train0.0\n",
    "2. 'eval_metric':'error@0.1'\n",
    "    * just trying\n",
    "    * Result: step77, test0.024509, train0.000019\n",
    "3. 'eval_metric':'error@0.9', 'eta':0.03\n",
    "    * make training slower\n",
    "    * Result: step01, didn't train\n",
    "4. 'eta':0.3\n",
    "    * faster trianing\n",
    "    * didnt bottom out test before end of run\n",
    "    * Result: step349, test0.023545, train0.0\n",
    "5. 'base_score':y_mean,\n",
    "    * better init\n",
    "    * faster trianing\n",
    "    * Result: step349, test0.023323, train0.000006\n",
    "6. 'eta':1\n",
    "    * faster\n",
    "    * Result: step2, test0.027177, train0.023441\n",
    "7. 'max_depth':3,\n",
    "    * reduce over fitting\n",
    "    * Result: step"
   ]
  },
  {
   "cell_type": "code",
   "execution_count": 81,
   "metadata": {},
   "outputs": [],
   "source": [
    "params = {\n",
    "    'objective' : 'binary:logistic', # this outputs probability to be a 1\n",
    "    'eval_metric':'error@0.9', # error with 0.9 threshold prob\n",
    "    'eta':1, #learning rate, default 0.3\n",
    "    'base_score':y_mean,\n",
    "    'max_depth':3,\n",
    "    #'subsample':0.5,\n",
    "    #'colsample_bytree':0.5,\n",
    "    #'gamma':0,\n",
    "    #'min_child_weight':6,\n",
    "    #'alpha':1,\n",
    "}"
   ]
  },
  {
   "cell_type": "code",
   "execution_count": 82,
   "metadata": {},
   "outputs": [
    {
     "name": "stdout",
     "output_type": "stream",
     "text": [
      "[0]\ttrain-error@0.9:0.030661\ttest-error@0.9:0.0318222\n",
      "[10]\ttrain-error@0.9:0.0342928\ttest-error@0.9:0.0357256\n",
      "[20]\ttrain-error@0.9:0.0308892\ttest-error@0.9:0.033082\n",
      "[30]\ttrain-error@0.9:0.0285732\ttest-error@0.9:0.0310808\n",
      "[40]\ttrain-error@0.9:0.0277826\ttest-error@0.9:0.0321432\n",
      "[50]\ttrain-error@0.9:0.0252008\ttest-error@0.9:0.0298704\n",
      "[60]\ttrain-error@0.9:0.0234776\ttest-error@0.9:0.029302\n",
      "[70]\ttrain-error@0.9:0.022446\ttest-error@0.9:0.0297222\n",
      "[80]\ttrain-error@0.9:0.0213898\ttest-error@0.9:0.0294008\n",
      "[90]\ttrain-error@0.9:0.0202902\ttest-error@0.9:0.029154\n",
      "[100]\ttrain-error@0.9:0.0190984\ttest-error@0.9:0.0288822\n",
      "[110]\ttrain-error@0.9:0.0181902\ttest-error@0.9:0.0287338\n",
      "[120]\ttrain-error@0.9:0.0175726\ttest-error@0.9:0.0287338\n",
      "[130]\ttrain-error@0.9:0.0167882\ttest-error@0.9:0.0286596\n",
      "[140]\ttrain-error@0.9:0.0161336\ttest-error@0.9:0.0287338\n",
      "[150]\ttrain-error@0.9:0.015627\ttest-error@0.9:0.0288326\n",
      "[160]\ttrain-error@0.9:0.0148362\ttest-error@0.9:0.0291292\n"
     ]
    }
   ],
   "source": [
    "cv_result = xgb.cv(params, dtrain, \n",
    "                   nfold=5, \n",
    "                   num_boost_round=350, \n",
    "                   early_stopping_rounds=50, \n",
    "                   verbose_eval=10, \n",
    "                   show_stdv=False)"
   ]
  },
  {
   "cell_type": "code",
   "execution_count": 83,
   "metadata": {},
   "outputs": [
    {
     "data": {
      "text/html": [
       "<div>\n",
       "<table border=\"1\" class=\"dataframe\">\n",
       "  <thead>\n",
       "    <tr style=\"text-align: right;\">\n",
       "      <th></th>\n",
       "      <th>test-error@0.9-mean</th>\n",
       "      <th>test-error@0.9-std</th>\n",
       "      <th>train-error@0.9-mean</th>\n",
       "      <th>train-error@0.9-std</th>\n",
       "    </tr>\n",
       "  </thead>\n",
       "  <tbody>\n",
       "    <tr>\n",
       "      <th>109</th>\n",
       "      <td>0.028808</td>\n",
       "      <td>0.001244</td>\n",
       "      <td>0.018548</td>\n",
       "      <td>0.001959</td>\n",
       "    </tr>\n",
       "    <tr>\n",
       "      <th>110</th>\n",
       "      <td>0.028734</td>\n",
       "      <td>0.001134</td>\n",
       "      <td>0.018190</td>\n",
       "      <td>0.002042</td>\n",
       "    </tr>\n",
       "    <tr>\n",
       "      <th>111</th>\n",
       "      <td>0.028684</td>\n",
       "      <td>0.001023</td>\n",
       "      <td>0.018147</td>\n",
       "      <td>0.001966</td>\n",
       "    </tr>\n",
       "    <tr>\n",
       "      <th>112</th>\n",
       "      <td>0.028511</td>\n",
       "      <td>0.000919</td>\n",
       "      <td>0.018153</td>\n",
       "      <td>0.002055</td>\n",
       "    </tr>\n",
       "    <tr>\n",
       "      <th>113</th>\n",
       "      <td>0.028289</td>\n",
       "      <td>0.000781</td>\n",
       "      <td>0.018141</td>\n",
       "      <td>0.002071</td>\n",
       "    </tr>\n",
       "  </tbody>\n",
       "</table>\n",
       "</div>"
      ],
      "text/plain": [
       "     test-error@0.9-mean  test-error@0.9-std  train-error@0.9-mean  \\\n",
       "109             0.028808            0.001244              0.018548   \n",
       "110             0.028734            0.001134              0.018190   \n",
       "111             0.028684            0.001023              0.018147   \n",
       "112             0.028511            0.000919              0.018153   \n",
       "113             0.028289            0.000781              0.018141   \n",
       "\n",
       "     train-error@0.9-std  \n",
       "109             0.001959  \n",
       "110             0.002042  \n",
       "111             0.001966  \n",
       "112             0.002055  \n",
       "113             0.002071  "
      ]
     },
     "execution_count": 83,
     "metadata": {},
     "output_type": "execute_result"
    }
   ],
   "source": [
    "cv_result.tail()"
   ]
  },
  {
   "cell_type": "code",
   "execution_count": 46,
   "metadata": {
    "scrolled": true
   },
   "outputs": [
    {
     "name": "stdout",
     "output_type": "stream",
     "text": [
      "[0]\teval-error@0.9:0.051607\n",
      "[1]\teval-error@0.9:0.032511\n",
      "[2]\teval-error@0.9:0.030213\n",
      "[3]\teval-error@0.9:0.028879\n",
      "[4]\teval-error@0.9:0.028706\n",
      "[5]\teval-error@0.9:0.027743\n",
      "[6]\teval-error@0.9:0.024902\n",
      "[7]\teval-error@0.9:0.025371\n",
      "[8]\teval-error@0.9:0.024754\n",
      "[9]\teval-error@0.9:0.022135\n",
      "[10]\teval-error@0.9:0.021913\n",
      "[11]\teval-error@0.9:0.021517\n",
      "[12]\teval-error@0.9:0.020084\n",
      "[13]\teval-error@0.9:0.019615\n",
      "[14]\teval-error@0.9:0.019096\n",
      "[15]\teval-error@0.9:0.018182\n",
      "[16]\teval-error@0.9:0.017293\n",
      "[17]\teval-error@0.9:0.016947\n",
      "[18]\teval-error@0.9:0.01628\n",
      "[19]\teval-error@0.9:0.015712\n",
      "[20]\teval-error@0.9:0.014823\n",
      "[21]\teval-error@0.9:0.014526\n",
      "[22]\teval-error@0.9:0.014007\n",
      "[23]\teval-error@0.9:0.013266\n",
      "[24]\teval-error@0.9:0.012945\n",
      "[25]\teval-error@0.9:0.012179\n",
      "[26]\teval-error@0.9:0.011982\n",
      "[27]\teval-error@0.9:0.011043\n",
      "[28]\teval-error@0.9:0.011216\n",
      "[29]\teval-error@0.9:0.01082\n",
      "[30]\teval-error@0.9:0.010722\n",
      "[31]\teval-error@0.9:0.0104\n",
      "[32]\teval-error@0.9:0.009635\n",
      "[33]\teval-error@0.9:0.009289\n",
      "[34]\teval-error@0.9:0.008819\n",
      "[35]\teval-error@0.9:0.008548\n",
      "[36]\teval-error@0.9:0.008004\n",
      "[37]\teval-error@0.9:0.007584\n",
      "[38]\teval-error@0.9:0.007461\n",
      "[39]\teval-error@0.9:0.006769\n",
      "[40]\teval-error@0.9:0.006497\n",
      "[41]\teval-error@0.9:0.006398\n",
      "[42]\teval-error@0.9:0.006053\n",
      "[43]\teval-error@0.9:0.005781\n",
      "[44]\teval-error@0.9:0.005311\n",
      "[45]\teval-error@0.9:0.005237\n",
      "[46]\teval-error@0.9:0.004916\n",
      "[47]\teval-error@0.9:0.00457\n",
      "[48]\teval-error@0.9:0.004595\n",
      "[49]\teval-error@0.9:0.004175\n",
      "[50]\teval-error@0.9:0.004002\n",
      "[51]\teval-error@0.9:0.003656\n",
      "[52]\teval-error@0.9:0.003384\n",
      "[53]\teval-error@0.9:0.003014\n",
      "[54]\teval-error@0.9:0.00289\n",
      "[55]\teval-error@0.9:0.002545\n",
      "[56]\teval-error@0.9:0.002273\n",
      "[57]\teval-error@0.9:0.001976\n",
      "[58]\teval-error@0.9:0.001606\n",
      "[59]\teval-error@0.9:0.001482\n",
      "[60]\teval-error@0.9:0.001334\n",
      "[61]\teval-error@0.9:0.001334\n",
      "[62]\teval-error@0.9:0.001112\n",
      "[63]\teval-error@0.9:0.001038\n",
      "[64]\teval-error@0.9:0.000963\n",
      "[65]\teval-error@0.9:0.000963\n",
      "[66]\teval-error@0.9:0.00084\n",
      "[67]\teval-error@0.9:0.000618\n",
      "[68]\teval-error@0.9:0.000519\n",
      "[69]\teval-error@0.9:0.000494\n",
      "[70]\teval-error@0.9:0.000469\n",
      "[71]\teval-error@0.9:0.00042\n",
      "[72]\teval-error@0.9:0.000321\n",
      "[73]\teval-error@0.9:0.000371\n",
      "[74]\teval-error@0.9:0.000296\n",
      "[75]\teval-error@0.9:0.000296\n",
      "[76]\teval-error@0.9:0.000148\n",
      "[77]\teval-error@0.9:0.000198\n",
      "[78]\teval-error@0.9:0.000173\n",
      "[79]\teval-error@0.9:0.000173\n",
      "[80]\teval-error@0.9:9.9e-05\n",
      "[81]\teval-error@0.9:9.9e-05\n",
      "[82]\teval-error@0.9:9.9e-05\n",
      "[83]\teval-error@0.9:7.4e-05\n",
      "[84]\teval-error@0.9:4.9e-05\n",
      "[85]\teval-error@0.9:4.9e-05\n",
      "[86]\teval-error@0.9:4.9e-05\n",
      "[87]\teval-error@0.9:2.5e-05\n",
      "[88]\teval-error@0.9:2.5e-05\n",
      "[89]\teval-error@0.9:0\n",
      "[90]\teval-error@0.9:0\n",
      "[91]\teval-error@0.9:0\n",
      "[92]\teval-error@0.9:0\n",
      "[93]\teval-error@0.9:0\n",
      "[94]\teval-error@0.9:0\n",
      "[95]\teval-error@0.9:0\n",
      "[96]\teval-error@0.9:0\n",
      "[97]\teval-error@0.9:0\n",
      "[98]\teval-error@0.9:0\n",
      "[99]\teval-error@0.9:0\n",
      "[100]\teval-error@0.9:0\n",
      "[101]\teval-error@0.9:0\n",
      "[102]\teval-error@0.9:0\n",
      "[103]\teval-error@0.9:0\n",
      "[104]\teval-error@0.9:0\n",
      "[105]\teval-error@0.9:0\n",
      "[106]\teval-error@0.9:0\n",
      "[107]\teval-error@0.9:0\n",
      "[108]\teval-error@0.9:0\n",
      "[109]\teval-error@0.9:0\n",
      "[110]\teval-error@0.9:0\n",
      "[111]\teval-error@0.9:0\n",
      "[112]\teval-error@0.9:0\n",
      "[113]\teval-error@0.9:0\n",
      "[114]\teval-error@0.9:0\n",
      "[115]\teval-error@0.9:0\n",
      "[116]\teval-error@0.9:0\n",
      "[117]\teval-error@0.9:0\n",
      "[118]\teval-error@0.9:0\n",
      "[119]\teval-error@0.9:0\n",
      "[120]\teval-error@0.9:0\n",
      "[121]\teval-error@0.9:0\n",
      "[122]\teval-error@0.9:0\n",
      "[123]\teval-error@0.9:0\n",
      "[124]\teval-error@0.9:0\n",
      "[125]\teval-error@0.9:0\n",
      "[126]\teval-error@0.9:0\n",
      "[127]\teval-error@0.9:0\n",
      "[128]\teval-error@0.9:0\n",
      "[129]\teval-error@0.9:0\n",
      "[130]\teval-error@0.9:0\n",
      "[131]\teval-error@0.9:0\n",
      "[132]\teval-error@0.9:0\n",
      "[133]\teval-error@0.9:0\n",
      "[134]\teval-error@0.9:0\n",
      "[135]\teval-error@0.9:0\n",
      "[136]\teval-error@0.9:0\n",
      "[137]\teval-error@0.9:0\n",
      "[138]\teval-error@0.9:0\n",
      "[139]\teval-error@0.9:0\n",
      "[140]\teval-error@0.9:0\n",
      "[141]\teval-error@0.9:0\n",
      "[142]\teval-error@0.9:0\n",
      "[143]\teval-error@0.9:0\n",
      "[144]\teval-error@0.9:0\n",
      "[145]\teval-error@0.9:0\n",
      "[146]\teval-error@0.9:0\n",
      "[147]\teval-error@0.9:0\n",
      "[148]\teval-error@0.9:0\n",
      "[149]\teval-error@0.9:0\n",
      "[150]\teval-error@0.9:0\n",
      "[151]\teval-error@0.9:0\n",
      "[152]\teval-error@0.9:0\n",
      "[153]\teval-error@0.9:0\n",
      "[154]\teval-error@0.9:0\n",
      "[155]\teval-error@0.9:0\n",
      "[156]\teval-error@0.9:0\n"
     ]
    }
   ],
   "source": [
    "model = xgb.train(dict(params), dtrain, num_boost_round=len(cv_result), \n",
    "                  evals=[(dtrain, 'eval')])"
   ]
  },
  {
   "cell_type": "code",
   "execution_count": 47,
   "metadata": {
    "collapsed": true
   },
   "outputs": [],
   "source": [
    "pred = model.predict(dtrain)"
   ]
  },
  {
   "cell_type": "code",
   "execution_count": 50,
   "metadata": {},
   "outputs": [
    {
     "data": {
      "text/plain": [
       "(array([   12,    14,    26, ..., 40447, 40461, 40475]),)"
      ]
     },
     "execution_count": 50,
     "metadata": {},
     "output_type": "execute_result"
    }
   ],
   "source": [
    "np.where(pred >0.5)"
   ]
  },
  {
   "cell_type": "code",
   "execution_count": 56,
   "metadata": {},
   "outputs": [
    {
     "data": {
      "text/plain": [
       "2089"
      ]
     },
     "execution_count": 56,
     "metadata": {},
     "output_type": "execute_result"
    }
   ],
   "source": [
    "len(np.where(pred > 0.5)[0])"
   ]
  },
  {
   "cell_type": "code",
   "execution_count": 57,
   "metadata": {},
   "outputs": [
    {
     "data": {
      "text/plain": [
       "array([[ 0.98783582,  0.99526775,  0.98916936, ...,  0.99984324,\n",
       "         0.9960736 ,  0.99347562]], dtype=float32)"
      ]
     },
     "execution_count": 57,
     "metadata": {},
     "output_type": "execute_result"
    }
   ],
   "source": [
    "np.take(pred, np.where(pred >0.5))"
   ]
  },
  {
   "cell_type": "code",
   "execution_count": 52,
   "metadata": {},
   "outputs": [
    {
     "data": {
      "text/plain": [
       "2089"
      ]
     },
     "execution_count": 52,
     "metadata": {},
     "output_type": "execute_result"
    }
   ],
   "source": [
    "len(df[df.cloudy == 1])"
   ]
  },
  {
   "cell_type": "code",
   "execution_count": null,
   "metadata": {
    "collapsed": true
   },
   "outputs": [],
   "source": []
  }
 ],
 "metadata": {
  "anaconda-cloud": {},
  "kernelspec": {
   "display_name": "Python 2",
   "language": "python",
   "name": "python2"
  },
  "language_info": {
   "codemirror_mode": {
    "name": "ipython",
    "version": 2
   },
   "file_extension": ".py",
   "mimetype": "text/x-python",
   "name": "python",
   "nbconvert_exporter": "python",
   "pygments_lexer": "ipython2",
   "version": "2.7.6"
  }
 },
 "nbformat": 4,
 "nbformat_minor": 1
}
