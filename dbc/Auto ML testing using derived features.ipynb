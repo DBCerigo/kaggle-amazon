{
 "cells": [
  {
   "cell_type": "code",
   "execution_count": 1,
   "metadata": {
    "collapsed": true
   },
   "outputs": [],
   "source": [
    "%load_ext autoreload\n",
    "%autoreload 2\n",
    "%matplotlib inline"
   ]
  },
  {
   "cell_type": "code",
   "execution_count": 2,
   "metadata": {
    "collapsed": true
   },
   "outputs": [],
   "source": [
    "from __future__ import print_function, division"
   ]
  },
  {
   "cell_type": "code",
   "execution_count": 3,
   "metadata": {},
   "outputs": [
    {
     "name": "stderr",
     "output_type": "stream",
     "text": [
      "Using TensorFlow backend.\n"
     ]
    }
   ],
   "source": [
    "import os.path\n",
    "import numpy as np\n",
    "import pandas as pd\n",
    "import matplotlib.pyplot as plt\n",
    "from keras.optimizers import Adam"
   ]
  },
  {
   "cell_type": "code",
   "execution_count": 6,
   "metadata": {},
   "outputs": [],
   "source": [
    "import os\n",
    "import sys\n",
    "base_module_path = os.path.abspath(os.path.join('..'))\n",
    "if base_module_path not in sys.path:\n",
    "    sys.path.append(base_module_path)\n",
    "import ama as a"
   ]
  },
  {
   "cell_type": "code",
   "execution_count": 7,
   "metadata": {
    "collapsed": true
   },
   "outputs": [],
   "source": [
    "BASE_PATH = '../data/'"
   ]
  },
  {
   "cell_type": "code",
   "execution_count": 8,
   "metadata": {},
   "outputs": [
    {
     "name": "stdout",
     "output_type": "stream",
     "text": [
      "40479\n"
     ]
    },
    {
     "data": {
      "text/html": [
       "<div>\n",
       "<style>\n",
       "    .dataframe thead tr:only-child th {\n",
       "        text-align: right;\n",
       "    }\n",
       "\n",
       "    .dataframe thead th {\n",
       "        text-align: left;\n",
       "    }\n",
       "\n",
       "    .dataframe tbody tr th {\n",
       "        vertical-align: top;\n",
       "    }\n",
       "</style>\n",
       "<table border=\"1\" class=\"dataframe\">\n",
       "  <thead>\n",
       "    <tr style=\"text-align: right;\">\n",
       "      <th></th>\n",
       "      <th>image_name</th>\n",
       "      <th>tags</th>\n",
       "    </tr>\n",
       "  </thead>\n",
       "  <tbody>\n",
       "    <tr>\n",
       "      <th>0</th>\n",
       "      <td>train_0</td>\n",
       "      <td>haze primary</td>\n",
       "    </tr>\n",
       "    <tr>\n",
       "      <th>1</th>\n",
       "      <td>train_1</td>\n",
       "      <td>agriculture clear primary water</td>\n",
       "    </tr>\n",
       "    <tr>\n",
       "      <th>2</th>\n",
       "      <td>train_2</td>\n",
       "      <td>clear primary</td>\n",
       "    </tr>\n",
       "    <tr>\n",
       "      <th>3</th>\n",
       "      <td>train_3</td>\n",
       "      <td>clear primary</td>\n",
       "    </tr>\n",
       "    <tr>\n",
       "      <th>4</th>\n",
       "      <td>train_4</td>\n",
       "      <td>agriculture clear habitation primary road</td>\n",
       "    </tr>\n",
       "  </tbody>\n",
       "</table>\n",
       "</div>"
      ],
      "text/plain": [
       "  image_name                                       tags\n",
       "0    train_0                               haze primary\n",
       "1    train_1            agriculture clear primary water\n",
       "2    train_2                              clear primary\n",
       "3    train_3                              clear primary\n",
       "4    train_4  agriculture clear habitation primary road"
      ]
     },
     "execution_count": 8,
     "metadata": {},
     "output_type": "execute_result"
    }
   ],
   "source": [
    "df = pd.read_csv(BASE_PATH + 'train_v2.csv'); print(len(df)); df.head()"
   ]
  },
  {
   "cell_type": "code",
   "execution_count": 9,
   "metadata": {},
   "outputs": [
    {
     "data": {
      "text/html": [
       "<div>\n",
       "<style>\n",
       "    .dataframe thead tr:only-child th {\n",
       "        text-align: right;\n",
       "    }\n",
       "\n",
       "    .dataframe thead th {\n",
       "        text-align: left;\n",
       "    }\n",
       "\n",
       "    .dataframe tbody tr th {\n",
       "        vertical-align: top;\n",
       "    }\n",
       "</style>\n",
       "<table border=\"1\" class=\"dataframe\">\n",
       "  <thead>\n",
       "    <tr style=\"text-align: right;\">\n",
       "      <th></th>\n",
       "      <th>image_name</th>\n",
       "      <th>tags</th>\n",
       "      <th>path</th>\n",
       "    </tr>\n",
       "  </thead>\n",
       "  <tbody>\n",
       "    <tr>\n",
       "      <th>0</th>\n",
       "      <td>train_0</td>\n",
       "      <td>haze primary</td>\n",
       "      <td>../data/train-full-jpg/train_0.jpg</td>\n",
       "    </tr>\n",
       "    <tr>\n",
       "      <th>1</th>\n",
       "      <td>train_1</td>\n",
       "      <td>agriculture clear primary water</td>\n",
       "      <td>../data/train-full-jpg/train_1.jpg</td>\n",
       "    </tr>\n",
       "    <tr>\n",
       "      <th>2</th>\n",
       "      <td>train_2</td>\n",
       "      <td>clear primary</td>\n",
       "      <td>../data/train-full-jpg/train_2.jpg</td>\n",
       "    </tr>\n",
       "    <tr>\n",
       "      <th>3</th>\n",
       "      <td>train_3</td>\n",
       "      <td>clear primary</td>\n",
       "      <td>../data/train-full-jpg/train_3.jpg</td>\n",
       "    </tr>\n",
       "    <tr>\n",
       "      <th>4</th>\n",
       "      <td>train_4</td>\n",
       "      <td>agriculture clear habitation primary road</td>\n",
       "      <td>../data/train-full-jpg/train_4.jpg</td>\n",
       "    </tr>\n",
       "  </tbody>\n",
       "</table>\n",
       "</div>"
      ],
      "text/plain": [
       "  image_name                                       tags  \\\n",
       "0    train_0                               haze primary   \n",
       "1    train_1            agriculture clear primary water   \n",
       "2    train_2                              clear primary   \n",
       "3    train_3                              clear primary   \n",
       "4    train_4  agriculture clear habitation primary road   \n",
       "\n",
       "                                 path  \n",
       "0  ../data/train-full-jpg/train_0.jpg  \n",
       "1  ../data/train-full-jpg/train_1.jpg  \n",
       "2  ../data/train-full-jpg/train_2.jpg  \n",
       "3  ../data/train-full-jpg/train_3.jpg  \n",
       "4  ../data/train-full-jpg/train_4.jpg  "
      ]
     },
     "execution_count": 9,
     "metadata": {},
     "output_type": "execute_result"
    }
   ],
   "source": [
    "df['path'] = df['image_name'].map(lambda x: BASE_PATH + 'train-full-jpg/' + x + '.jpg'); df.head()"
   ]
  },
  {
   "cell_type": "code",
   "execution_count": 10,
   "metadata": {},
   "outputs": [
    {
     "data": {
      "text/plain": [
       "['haze',\n",
       " 'primary',\n",
       " 'agriculture',\n",
       " 'clear',\n",
       " 'water',\n",
       " 'habitation',\n",
       " 'road',\n",
       " 'cultivation',\n",
       " 'slash_burn',\n",
       " 'cloudy',\n",
       " 'partly_cloudy',\n",
       " 'conventional_mine',\n",
       " 'bare_ground',\n",
       " 'artisinal_mine',\n",
       " 'blooming',\n",
       " 'selective_logging',\n",
       " 'blow_down']"
      ]
     },
     "execution_count": 10,
     "metadata": {},
     "output_type": "execute_result"
    }
   ],
   "source": [
    "# Build list with unique labels\n",
    "label_list = []\n",
    "for tag_str in df.tags.values:\n",
    "    labels = tag_str.split(' ')\n",
    "    for label in labels:\n",
    "        if label not in label_list:\n",
    "            label_list.append(label)\n",
    "label_list      "
   ]
  },
  {
   "cell_type": "code",
   "execution_count": 11,
   "metadata": {},
   "outputs": [
    {
     "data": {
      "text/html": [
       "<div>\n",
       "<style>\n",
       "    .dataframe thead tr:only-child th {\n",
       "        text-align: right;\n",
       "    }\n",
       "\n",
       "    .dataframe thead th {\n",
       "        text-align: left;\n",
       "    }\n",
       "\n",
       "    .dataframe tbody tr th {\n",
       "        vertical-align: top;\n",
       "    }\n",
       "</style>\n",
       "<table border=\"1\" class=\"dataframe\">\n",
       "  <thead>\n",
       "    <tr style=\"text-align: right;\">\n",
       "      <th></th>\n",
       "      <th>image_name</th>\n",
       "      <th>tags</th>\n",
       "      <th>path</th>\n",
       "      <th>haze</th>\n",
       "      <th>primary</th>\n",
       "      <th>agriculture</th>\n",
       "      <th>clear</th>\n",
       "      <th>water</th>\n",
       "      <th>habitation</th>\n",
       "      <th>road</th>\n",
       "      <th>cultivation</th>\n",
       "      <th>slash_burn</th>\n",
       "      <th>cloudy</th>\n",
       "      <th>partly_cloudy</th>\n",
       "      <th>conventional_mine</th>\n",
       "      <th>bare_ground</th>\n",
       "      <th>artisinal_mine</th>\n",
       "      <th>blooming</th>\n",
       "      <th>selective_logging</th>\n",
       "      <th>blow_down</th>\n",
       "    </tr>\n",
       "  </thead>\n",
       "  <tbody>\n",
       "    <tr>\n",
       "      <th>0</th>\n",
       "      <td>train_0</td>\n",
       "      <td>haze primary</td>\n",
       "      <td>../data/train-full-jpg/train_0.jpg</td>\n",
       "      <td>1</td>\n",
       "      <td>1</td>\n",
       "      <td>0</td>\n",
       "      <td>0</td>\n",
       "      <td>0</td>\n",
       "      <td>0</td>\n",
       "      <td>0</td>\n",
       "      <td>0</td>\n",
       "      <td>0</td>\n",
       "      <td>0</td>\n",
       "      <td>0</td>\n",
       "      <td>0</td>\n",
       "      <td>0</td>\n",
       "      <td>0</td>\n",
       "      <td>0</td>\n",
       "      <td>0</td>\n",
       "      <td>0</td>\n",
       "    </tr>\n",
       "    <tr>\n",
       "      <th>1</th>\n",
       "      <td>train_1</td>\n",
       "      <td>agriculture clear primary water</td>\n",
       "      <td>../data/train-full-jpg/train_1.jpg</td>\n",
       "      <td>0</td>\n",
       "      <td>1</td>\n",
       "      <td>1</td>\n",
       "      <td>1</td>\n",
       "      <td>1</td>\n",
       "      <td>0</td>\n",
       "      <td>0</td>\n",
       "      <td>0</td>\n",
       "      <td>0</td>\n",
       "      <td>0</td>\n",
       "      <td>0</td>\n",
       "      <td>0</td>\n",
       "      <td>0</td>\n",
       "      <td>0</td>\n",
       "      <td>0</td>\n",
       "      <td>0</td>\n",
       "      <td>0</td>\n",
       "    </tr>\n",
       "    <tr>\n",
       "      <th>2</th>\n",
       "      <td>train_2</td>\n",
       "      <td>clear primary</td>\n",
       "      <td>../data/train-full-jpg/train_2.jpg</td>\n",
       "      <td>0</td>\n",
       "      <td>1</td>\n",
       "      <td>0</td>\n",
       "      <td>1</td>\n",
       "      <td>0</td>\n",
       "      <td>0</td>\n",
       "      <td>0</td>\n",
       "      <td>0</td>\n",
       "      <td>0</td>\n",
       "      <td>0</td>\n",
       "      <td>0</td>\n",
       "      <td>0</td>\n",
       "      <td>0</td>\n",
       "      <td>0</td>\n",
       "      <td>0</td>\n",
       "      <td>0</td>\n",
       "      <td>0</td>\n",
       "    </tr>\n",
       "    <tr>\n",
       "      <th>3</th>\n",
       "      <td>train_3</td>\n",
       "      <td>clear primary</td>\n",
       "      <td>../data/train-full-jpg/train_3.jpg</td>\n",
       "      <td>0</td>\n",
       "      <td>1</td>\n",
       "      <td>0</td>\n",
       "      <td>1</td>\n",
       "      <td>0</td>\n",
       "      <td>0</td>\n",
       "      <td>0</td>\n",
       "      <td>0</td>\n",
       "      <td>0</td>\n",
       "      <td>0</td>\n",
       "      <td>0</td>\n",
       "      <td>0</td>\n",
       "      <td>0</td>\n",
       "      <td>0</td>\n",
       "      <td>0</td>\n",
       "      <td>0</td>\n",
       "      <td>0</td>\n",
       "    </tr>\n",
       "    <tr>\n",
       "      <th>4</th>\n",
       "      <td>train_4</td>\n",
       "      <td>agriculture clear habitation primary road</td>\n",
       "      <td>../data/train-full-jpg/train_4.jpg</td>\n",
       "      <td>0</td>\n",
       "      <td>1</td>\n",
       "      <td>1</td>\n",
       "      <td>1</td>\n",
       "      <td>0</td>\n",
       "      <td>1</td>\n",
       "      <td>1</td>\n",
       "      <td>0</td>\n",
       "      <td>0</td>\n",
       "      <td>0</td>\n",
       "      <td>0</td>\n",
       "      <td>0</td>\n",
       "      <td>0</td>\n",
       "      <td>0</td>\n",
       "      <td>0</td>\n",
       "      <td>0</td>\n",
       "      <td>0</td>\n",
       "    </tr>\n",
       "  </tbody>\n",
       "</table>\n",
       "</div>"
      ],
      "text/plain": [
       "  image_name                                       tags  \\\n",
       "0    train_0                               haze primary   \n",
       "1    train_1            agriculture clear primary water   \n",
       "2    train_2                              clear primary   \n",
       "3    train_3                              clear primary   \n",
       "4    train_4  agriculture clear habitation primary road   \n",
       "\n",
       "                                 path  haze  primary  agriculture  clear  \\\n",
       "0  ../data/train-full-jpg/train_0.jpg     1        1            0      0   \n",
       "1  ../data/train-full-jpg/train_1.jpg     0        1            1      1   \n",
       "2  ../data/train-full-jpg/train_2.jpg     0        1            0      1   \n",
       "3  ../data/train-full-jpg/train_3.jpg     0        1            0      1   \n",
       "4  ../data/train-full-jpg/train_4.jpg     0        1            1      1   \n",
       "\n",
       "   water  habitation  road  cultivation  slash_burn  cloudy  partly_cloudy  \\\n",
       "0      0           0     0            0           0       0              0   \n",
       "1      1           0     0            0           0       0              0   \n",
       "2      0           0     0            0           0       0              0   \n",
       "3      0           0     0            0           0       0              0   \n",
       "4      0           1     1            0           0       0              0   \n",
       "\n",
       "   conventional_mine  bare_ground  artisinal_mine  blooming  \\\n",
       "0                  0            0               0         0   \n",
       "1                  0            0               0         0   \n",
       "2                  0            0               0         0   \n",
       "3                  0            0               0         0   \n",
       "4                  0            0               0         0   \n",
       "\n",
       "   selective_logging  blow_down  \n",
       "0                  0          0  \n",
       "1                  0          0  \n",
       "2                  0          0  \n",
       "3                  0          0  \n",
       "4                  0          0  "
      ]
     },
     "execution_count": 11,
     "metadata": {},
     "output_type": "execute_result"
    }
   ],
   "source": [
    "# Add onehot features for every label\n",
    "for label in label_list:\n",
    "    df[label] = df['tags'].apply(lambda x: 1 if label in x.split(' ') else 0)\n",
    "df.head()"
   ]
  },
  {
   "cell_type": "code",
   "execution_count": 12,
   "metadata": {
    "collapsed": true
   },
   "outputs": [],
   "source": [
    "def check_image(path):\n",
    "    print(path)\n",
    "    img = plt.imread(path)\n",
    "    print(img.shape)\n",
    "    plt.imshow(img)"
   ]
  },
  {
   "cell_type": "code",
   "execution_count": 17,
   "metadata": {},
   "outputs": [
    {
     "name": "stdout",
     "output_type": "stream",
     "text": [
      "../data/train-full-jpg/train_0.jpg\n",
      "(256, 256, 4)\n"
     ]
    },
    {
     "data": {
      "image/png": "[encoded data removed]",
      "text/plain": [
       "<matplotlib.figure.Figure at 0x7f5659a96bd0>"
      ]
     },
     "metadata": {},
     "output_type": "display_data"
    }
   ],
   "source": [
    "check_image(df.path[0])"
   ]
  },
  {
   "cell_type": "code",
   "execution_count": 18,
   "metadata": {},
   "outputs": [],
   "source": [
    "### COMPUTE FEATURES ###\n",
    "from PIL import Image, ImageStat\n",
    "import scipy\n",
    "import cv2\n",
    "\n",
    "def get_features(path):\n",
    "    st = []\n",
    "    img = Image.open(path)\n",
    "    im_stats_ = ImageStat.Stat(img)\n",
    "    st += im_stats_.sum\n",
    "    st += im_stats_.mean\n",
    "    st += im_stats_.rms\n",
    "    st += im_stats_.var\n",
    "    st += im_stats_.stddev\n",
    "    img = np.array(img)[:,:,:3]\n",
    "    st += [scipy.stats.kurtosis(img[:,:,0].ravel())]\n",
    "    st += [scipy.stats.kurtosis(img[:,:,1].ravel())]\n",
    "    st += [scipy.stats.kurtosis(img[:,:,2].ravel())]\n",
    "    st += [scipy.stats.skew(img[:,:,0].ravel())]\n",
    "    st += [scipy.stats.skew(img[:,:,1].ravel())]\n",
    "    st += [scipy.stats.skew(img[:,:,2].ravel())]\n",
    "    #cv2 jpg\n",
    "    img = cv2.imread(path)\n",
    "    bw = cv2.imread(path,0)\n",
    "    #st += list(cv2.calcHist([bw],[0],None,[256],[0,256]).flatten()) #bw \n",
    "    #st += list(cv2.calcHist([img],[0],None,[256],[0,256]).flatten()) #r\n",
    "    #st += list(cv2.calcHist([img],[1],None,[256],[0,256]).flatten()) #g\n",
    "    #st += list(cv2.calcHist([img],[2],None,[256],[0,256]).flatten()) #b\n",
    "    m, s = cv2.meanStdDev(img) #mean and standard deviation\n",
    "    st += list(list(m))\n",
    "    st += list(s)\n",
    "    st += [cv2.Laplacian(bw, cv2.CV_64F).var()] \n",
    "    st += [cv2.Laplacian(img, cv2.CV_64F).var()]\n",
    "    st += [cv2.Sobel(bw,cv2.CV_64F,1,0,ksize=5).var()]\n",
    "    st += [cv2.Sobel(bw,cv2.CV_64F,0,1,ksize=5).var()]\n",
    "    st += [cv2.Sobel(img,cv2.CV_64F,1,0,ksize=5).var()]\n",
    "    st += [cv2.Sobel(img,cv2.CV_64F,0,1,ksize=5).var()]\n",
    "    st += [(bw<30).sum()]\n",
    "    st += [(bw>225).sum()]\n",
    "    return [path, st]"
   ]
  },
  {
   "cell_type": "code",
   "execution_count": 19,
   "metadata": {
    "collapsed": true
   },
   "outputs": [],
   "source": [
    "from multiprocessing import Pool, cpu_count\n",
    "def normalize_img(paths):\n",
    "    imf_d = {}\n",
    "    p = Pool(cpu_count())\n",
    "    ret = p.map(get_features, paths)\n",
    "    for i in range(len(ret)):\n",
    "        imf_d[ret[i][0]] = ret[i][1]\n",
    "    ret = []\n",
    "    fdata = [imf_d[f] for f in paths]\n",
    "    return fdata"
   ]
  },
  {
   "cell_type": "code",
   "execution_count": 20,
   "metadata": {
    "collapsed": true
   },
   "outputs": [],
   "source": [
    "import cPickle as pickle"
   ]
  },
  {
   "cell_type": "code",
   "execution_count": 21,
   "metadata": {},
   "outputs": [
    {
     "name": "stdout",
     "output_type": "stream",
     "text": [
      "2089\n",
      "0.0516070061019\n",
      "40479\n",
      "0.0516070061019\n"
     ]
    }
   ],
   "source": [
    "y = df.cloudy\n",
    "y_mean = y.mean()\n",
    "print(y.sum())\n",
    "print(y.mean())\n",
    "print(len(y))\n",
    "print(y.sum()/len(y))"
   ]
  },
  {
   "cell_type": "code",
   "execution_count": 23,
   "metadata": {},
   "outputs": [
    {
     "name": "stdout",
     "output_type": "stream",
     "text": [
      "unpickling\n"
     ]
    }
   ],
   "source": [
    "try:\n",
    "    x = pickle.load( open(BASE_PATH+ 'features1.pkl', 'rb'))\n",
    "    print(\"unpickling\")\n",
    "except:\n",
    "    x = normalize_img(df['path']); print('train...')\n",
    "    print(\"generating features - long...\")"
   ]
  },
  {
   "cell_type": "code",
   "execution_count": 43,
   "metadata": {},
   "outputs": [],
   "source": [
    "x = np.array(x)\n",
    "y = np.array(y)"
   ]
  },
  {
   "cell_type": "code",
   "execution_count": 46,
   "metadata": {},
   "outputs": [
    {
     "name": "stdout",
     "output_type": "stream",
     "text": [
      "[[  1.06963020e+07   9.54551500e+06   9.92155100e+06   0.00000000e+00\n",
      "    1.63212616e+02   1.45653000e+02   1.51390854e+02   0.00000000e+00\n",
      "    1.63268258e+02   1.45685460e+02   1.51412980e+02   0.00000000e+00\n",
      "    1.81659151e+01   9.45687668e+00   6.69981808e+00   0.00000000e+00\n",
      "    4.26214911e+00   3.07520352e+00   2.58840068e+00   0.00000000e+00\n",
      "    8.92940216e-01   4.68080739e-01   5.84727109e-01  -3.49179090e-01\n",
      "   -1.85761651e-01  -1.43464814e-01   1.04609146e+02   1.10347000e+02\n",
      "    9.27873840e+01   2.58840068e+00   3.07520352e+00   4.26214911e+00\n",
      "    1.31064139e+01   1.79296767e+01   1.91826548e+04   1.23779764e+04\n",
      "    2.29763142e+04   1.55191538e+04   0.00000000e+00   0.00000000e+00]\n",
      " [  1.24099060e+07   1.16983480e+07   1.24976110e+07   0.00000000e+00\n",
      "    1.89360138e+02   1.78502625e+02   1.90698410e+02   0.00000000e+00\n",
      "    1.90216407e+02   1.79334565e+02   1.90935520e+02   0.00000000e+00\n",
      "    3.25019684e+02   2.97699120e+02   9.04892589e+01   0.00000000e+00\n",
      "    1.80283023e+01   1.72539596e+01   9.51258424e+00   0.00000000e+00\n",
      "    1.64930768e+00  -2.23049500e-01   2.61887465e+00  -1.19243189e+00\n",
      "   -7.68290340e-01  -1.10833481e+00   6.53015900e+01   7.74973755e+01\n",
      "    6.66398621e+01   9.51258424e+00   1.72539596e+01   1.80283023e+01\n",
      "    2.80768574e+01   3.75291486e+01   1.21524989e+05   5.60127143e+04\n",
      "    1.17904800e+05   5.67889198e+04   0.00000000e+00   0.00000000e+00]]\n",
      "[0 0]\n",
      "(40479, 40)\n",
      "(40479,)\n"
     ]
    }
   ],
   "source": [
    "print(x[:2])\n",
    "print(y[:2])\n",
    "print(x.shape)\n",
    "print(y.shape)"
   ]
  },
  {
   "cell_type": "code",
   "execution_count": 22,
   "metadata": {
    "collapsed": true
   },
   "outputs": [],
   "source": [
    "with open(BASE_PATH + 'features1.pkl', 'wb') as output:\n",
    "    #pickle.dump(x, output)"
   ]
  },
  {
   "cell_type": "code",
   "execution_count": 32,
   "metadata": {},
   "outputs": [],
   "source": [
    "### TPOT auto-ML ###\n",
    "from tpot import TPOTClassifier\n",
    "pipeline_optimizer = TPOTClassifier(generations=2, population_size=20, cv=5,\n",
    "                                    random_state=42, verbosity=2)"
   ]
  },
  {
   "cell_type": "code",
   "execution_count": 49,
   "metadata": {},
   "outputs": [
    {
     "name": "stderr",
     "output_type": "stream",
     "text": [
      "Optimization Progress:  65%|██████▌   | 39/60 [00:16<00:14,  1.44pipeline/s]"
     ]
    },
    {
     "name": "stdout",
     "output_type": "stream",
     "text": [
      "Generation 1 - Current best internal CV score: 0.972009650241\n"
     ]
    },
    {
     "name": "stderr",
     "output_type": "stream",
     "text": [
      "                                                                            \r"
     ]
    },
    {
     "name": "stdout",
     "output_type": "stream",
     "text": [
      "Generation 2 - Current best internal CV score: 0.972009650241\n",
      "\n",
      "Best pipeline: LinearSVC(input_matrix, LinearSVC__C=1.0, LinearSVC__dual=False, LinearSVC__loss=squared_hinge, LinearSVC__penalty=l1, LinearSVC__tol=DEFAULT)\n"
     ]
    },
    {
     "data": {
      "text/plain": [
       "TPOTClassifier(config_dict={'sklearn.ensemble.GradientBoostingClassifier': {'max_features': array([ 0.05,  0.1 ,  0.15,  0.2 ,  0.25,  0.3 ,  0.35,  0.4 ,  0.45,\n",
       "        0.5 ,  0.55,  0.6 ,  0.65,  0.7 ,  0.75,  0.8 ,  0.85,  0.9 ,\n",
       "        0.95,  1.  ]), 'learning_rate': [0.001, 0.01, 0.1, 0.5, 1.0], 'min_samples_... 0.7 ,  0.75,  0.8 ,  0.85,  0.9 ,\n",
       "        0.95,  1.  ])}, 'sklearn.preprocessing.RobustScaler': {}},\n",
       "        crossover_rate=0.1, cv=5, disable_update_check=False,\n",
       "        generations=2, max_eval_time_mins=5, max_time_mins=None,\n",
       "        mutation_rate=0.9, n_jobs=1, offspring_size=20, population_size=20,\n",
       "        random_state=42, scoring=None, subsample=1.0, verbosity=2,\n",
       "        warm_start=False)"
      ]
     },
     "execution_count": 49,
     "metadata": {},
     "output_type": "execute_result"
    }
   ],
   "source": [
    "i = 1000\n",
    "pipeline_optimizer.fit(x[:i],y[:i])"
   ]
  },
  {
   "cell_type": "code",
   "execution_count": 48,
   "metadata": {},
   "outputs": [
    {
     "name": "stdout",
     "output_type": "stream",
     "text": [
      "0.933817535018\n"
     ]
    }
   ],
   "source": [
    "print(pipeline_optimizer.score(,)"
   ]
  },
  {
   "cell_type": "code",
   "execution_count": null,
   "metadata": {
    "collapsed": true
   },
   "outputs": [],
   "source": []
  }
 ],
 "metadata": {
  "anaconda-cloud": {},
  "kernelspec": {
   "display_name": "Python 2",
   "language": "python",
   "name": "python2"
  },
  "language_info": {
   "codemirror_mode": {
    "name": "ipython",
    "version": 2
   },
   "file_extension": ".py",
   "mimetype": "text/x-python",
   "name": "python",
   "nbconvert_exporter": "python",
   "pygments_lexer": "ipython2",
   "version": "2.7.6"
  }
 },
 "nbformat": 4,
 "nbformat_minor": 1
}
