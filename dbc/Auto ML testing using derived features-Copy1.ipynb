{
 "cells": [
  {
   "cell_type": "code",
   "execution_count": 1,
   "metadata": {
    "collapsed": true
   },
   "outputs": [],
   "source": [
    "%load_ext autoreload\n",
    "%autoreload 2\n",
    "%matplotlib inline"
   ]
  },
  {
   "cell_type": "code",
   "execution_count": 2,
   "metadata": {
    "collapsed": true
   },
   "outputs": [],
   "source": [
    "from __future__ import print_function, division"
   ]
  },
  {
   "cell_type": "code",
   "execution_count": 3,
   "metadata": {},
   "outputs": [
    {
     "name": "stderr",
     "output_type": "stream",
     "text": [
      "Using TensorFlow backend.\n"
     ]
    }
   ],
   "source": [
    "import os.path\n",
    "import numpy as np\n",
    "import pandas as pd\n",
    "import matplotlib.pyplot as plt\n",
    "from keras.optimizers import Adam"
   ]
  },
  {
   "cell_type": "code",
   "execution_count": 4,
   "metadata": {
    "collapsed": true
   },
   "outputs": [],
   "source": [
    "import os\n",
    "import sys\n",
    "base_module_path = os.path.abspath(os.path.join('..'))\n",
    "if base_module_path not in sys.path:\n",
    "    sys.path.append(base_module_path)\n",
    "import ama as a"
   ]
  },
  {
   "cell_type": "code",
   "execution_count": 5,
   "metadata": {},
   "outputs": [
    {
     "name": "stderr",
     "output_type": "stream",
     "text": [
      "/usr/local/lib/python2.7/dist-packages/sklearn/cross_validation.py:44: DeprecationWarning: This module was deprecated in version 0.18 in favor of the model_selection module into which all the refactored classes and functions are moved. Also note that the interface of the new CV iterators are different from that of this module. This module will be removed in 0.20.\n",
      "  \"This module will be removed in 0.20.\", DeprecationWarning)\n",
      "                                                                             \r"
     ]
    },
    {
     "name": "stdout",
     "output_type": "stream",
     "text": [
      "\n",
      "TPOT closed prematurely. Will use the current best pipeline.\n",
      "\n",
      "Best pipeline: LogisticRegression(XGBClassifier(input_matrix, XGBClassifier__learning_rate=0.001, XGBClassifier__max_depth=2, XGBClassifier__min_child_weight=15, XGBClassifier__n_estimators=DEFAULT, XGBClassifier__nthread=1, XGBClassifier__subsample=0.5), LogisticRegression__C=DEFAULT, LogisticRegression__dual=True, LogisticRegression__penalty=l2)\n",
      "0.948888888889\n"
     ]
    }
   ],
   "source": [
    "from tpot import TPOTClassifier\n",
    "from sklearn.datasets import load_digits\n",
    "from sklearn.model_selection import train_test_split\n",
    "\n",
    "digits = load_digits()\n",
    "X_train, X_test, y_train, y_test = train_test_split(digits.data, digits.target,\n",
    "                                                    train_size=0.75, test_size=0.25)\n",
    "\n",
    "pipeline_optimizer = TPOTClassifier(generations=5, population_size=20, cv=5,\n",
    "                                    random_state=42, verbosity=2)\n",
    "pipeline_optimizer.fit(X_train, y_train)\n",
    "print(pipeline_optimizer.score(X_test, y_test))\n",
    "pipeline_optimizer.export('tpot_exported_pipeline.py')"
   ]
  },
  {
   "cell_type": "code",
   "execution_count": 6,
   "metadata": {},
   "outputs": [
    {
     "data": {
      "text/plain": [
       "(array([[  0.,   0.,   0., ...,   0.,   0.,   0.],\n",
       "        [  0.,   0.,  10., ...,  16.,  16.,  11.],\n",
       "        [  0.,   0.,  12., ...,   0.,   0.,   0.],\n",
       "        ..., \n",
       "        [  0.,   0.,  10., ...,  10.,   1.,   0.],\n",
       "        [  0.,   0.,   1., ...,   6.,   0.,   0.],\n",
       "        [  0.,   0.,   3., ...,   2.,   0.,   0.]]),\n",
       " array([4, 1, 7, 3, 4, 5, 5, 0, 8, 9, 1, 7, 5, 2, 8, 7, 7, 8, 6, 9, 2, 7, 3,\n",
       "        2, 1, 5, 3, 9, 8, 7, 5, 2, 0, 3, 3, 3, 7, 6, 7, 9, 2, 5, 3, 9, 6, 2,\n",
       "        2, 8, 8, 2, 7, 4, 6, 7, 9, 1, 2, 9, 9, 0, 4, 6, 1, 6, 3, 8, 9, 5, 9,\n",
       "        4, 3, 0, 5, 5, 2, 2, 9, 2, 7, 1, 3, 6, 3, 2, 5, 8, 5, 5, 8, 5, 3, 8,\n",
       "        0, 0, 7, 3, 8, 9, 6, 1, 6, 1, 6, 1, 1, 4, 1, 0, 5, 7, 0, 9, 9, 7, 5,\n",
       "        3, 3, 1, 8, 7, 8, 8, 1, 2, 1, 0, 7, 8, 4, 5, 2, 1, 0, 3, 3, 3, 1, 9,\n",
       "        6, 3, 1, 0, 1, 9, 8, 9, 9, 8, 5, 9, 1, 5, 4, 3, 7, 1, 7, 5, 8, 5, 1,\n",
       "        5, 1, 4, 3, 9, 3, 6, 5, 6, 0, 7, 8, 0, 7, 9, 6, 7, 3, 7, 9, 0, 7, 8,\n",
       "        8, 1, 0, 9, 1, 2, 9, 8, 7, 5, 9, 0, 4, 4, 3, 1, 4, 9, 1, 1, 7, 5, 7,\n",
       "        0, 5, 3, 4, 5, 7, 7, 0, 2, 2, 9, 6, 3, 6, 0, 3, 4, 4, 2, 7, 2, 2, 4,\n",
       "        2, 9, 6, 0, 1, 6, 1, 1, 1, 5, 0, 8, 1, 6, 3, 7, 4, 6, 3, 0, 2, 6, 9,\n",
       "        3, 4, 5, 9, 6, 7, 3, 3, 4, 8, 1, 2, 3, 7, 5, 5, 5, 2, 6, 6, 1, 4, 4,\n",
       "        4, 6, 8, 8, 1, 1, 6, 4, 9, 7, 9, 0, 4, 7, 7, 9, 3, 7, 3, 0, 2, 3, 6,\n",
       "        6, 8, 7, 8, 7, 4, 2, 1, 7, 7, 2, 0, 6, 2, 1, 5, 4, 7, 2, 8, 4, 6, 8,\n",
       "        9, 2, 9, 6, 9, 5, 7, 5, 5, 8, 3, 6, 0, 7, 8, 2, 1, 5, 1, 3, 4, 3, 3,\n",
       "        6, 0, 3, 6, 4, 0, 1, 4, 6, 6, 1, 9, 1, 7, 3, 5, 1, 8, 6, 8, 0, 9, 2,\n",
       "        3, 9, 6, 9, 0, 0, 7, 0, 3, 3, 8, 7, 8, 3, 5, 2, 9, 8, 2, 1, 8, 5, 8,\n",
       "        3, 6, 2, 8, 9, 1, 1, 1, 2, 6, 9, 6, 7, 1, 0, 2, 3, 5, 3, 6, 0, 8, 6,\n",
       "        4, 8, 3, 2, 8, 1, 3, 4, 7, 2, 3, 6, 3, 8, 7, 9, 9, 3, 0, 4, 4, 6, 8,\n",
       "        6, 9, 8, 3, 1, 7, 9, 0, 5, 9, 3, 6, 5]))"
      ]
     },
     "execution_count": 6,
     "metadata": {},
     "output_type": "execute_result"
    }
   ],
   "source": [
    "X_test, y_test"
   ]
  },
  {
   "cell_type": "code",
   "execution_count": null,
   "metadata": {
    "collapsed": true
   },
   "outputs": [],
   "source": []
  }
 ],
 "metadata": {
  "anaconda-cloud": {},
  "kernelspec": {
   "display_name": "Python 2",
   "language": "python",
   "name": "python2"
  },
  "language_info": {
   "codemirror_mode": {
    "name": "ipython",
    "version": 2
   },
   "file_extension": ".py",
   "mimetype": "text/x-python",
   "name": "python",
   "nbconvert_exporter": "python",
   "pygments_lexer": "ipython2",
   "version": "2.7.6"
  }
 },
 "nbformat": 4,
 "nbformat_minor": 1
}
